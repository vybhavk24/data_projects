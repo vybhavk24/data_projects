{
 "cells": [
  {
   "cell_type": "markdown",
   "id": "0866d6b1-a91f-4f17-bc9a-48f0236f6357",
   "metadata": {},
   "source": [
    "### Importing Libraries and Setting Up Environment  \n",
    "\n",
    "In this step, we import all the necessary libraries for the project:  \n",
    "\n",
    "- **os** → File system operations (like saving/loading models).  \n",
    "- **numpy, pandas** → Numerical computations and data manipulation.  \n",
    "- **matplotlib, seaborn** → Data visualization (plots, graphs, trends).  \n",
    "- **scikit-learn modules**:  \n",
    "  - `train_test_split`, `cross_val_score`, `RandomizedSearchCV` → Model training, validation, and hyperparameter tuning.  \n",
    "  - `Pipeline`, `ColumnTransformer` → Building a clean ML pipeline.  \n",
    "  - `SimpleImputer` → Handling missing values.  \n",
    "  - `StandardScaler`, `OneHotEncoder` → Feature scaling and categorical encoding.  \n",
    "  - `LogisticRegression`, `RandomForestClassifier` → Machine learning models.  \n",
    "  - `classification_report`, `confusion_matrix`, `roc_auc_score`, `roc_curve`, `accuracy_score` → Model evaluation metrics.  \n",
    "- **joblib** → Saving and loading trained models.  \n",
    "- **warnings** → To ignore warning messages for cleaner output.  \n",
    "- **sns.set_style(\"whitegrid\")** → Sets a clean and readable style for plots.  \n",
    "- **RANDOM_STATE = 42** → Ensures reproducibility of results (same splits and randomness every time).  \n",
    "\n",
    "This setup prepares us for the full **data science pipeline**: from preprocessing to modeling, evaluation, and deployment."
   ]
  },
  {
   "cell_type": "code",
   "execution_count": 1,
   "id": "fd71d2fb-5f72-46c6-94da-bdae043f2f27",
   "metadata": {},
   "outputs": [],
   "source": [
    "import os\n",
    "import numpy as np\n",
    "import pandas as pd\n",
    "import matplotlib.pyplot as plt\n",
    "import seaborn as sns\n",
    "from sklearn.model_selection import train_test_split, RandomizedSearchCV, cross_val_score\n",
    "from sklearn.pipeline import Pipeline\n",
    "from sklearn.compose import ColumnTransformer\n",
    "from sklearn.impute import SimpleImputer\n",
    "from sklearn.preprocessing import StandardScaler, OneHotEncoder\n",
    "from sklearn.linear_model import LogisticRegression\n",
    "from sklearn.ensemble import RandomForestClassifier\n",
    "from sklearn.metrics import classification_report, confusion_matrix, roc_auc_score, roc_curve, accuracy_score\n",
    "import joblib\n",
    "import warnings\n",
    "warnings.filterwarnings(\"ignore\")\n",
    "sns.set_style(\"whitegrid\")\n",
    "RANDOM_STATE = 42"
   ]
  },
  {
   "cell_type": "markdown",
   "id": "b0fda580-f924-4604-b611-5edbfaca39f8",
   "metadata": {},
   "source": [
    "### Loading the Dataset  \n",
    "\n",
    "Here, we load the telecom customer churn dataset into a pandas DataFrame:  \n",
    "\n",
    "- **DATA_PATH** → Points to the location of the CSV file (`Telco_customer_churn_dataset.csv`).  \n",
    "- **pd.read_csv(DATA_PATH)** → Reads the dataset into a DataFrame named `df`.  \n",
    "- **df.shape** → Prints the dimensions of the dataset (rows × columns), giving an idea of how much data we are working with.  \n",
    "- **df.head(7)** → Displays the first 7 rows of the dataset for a quick preview of columns, values, and structure.  \n",
    "\n",
    "This step helps us verify that the dataset is correctly loaded and gives a first look at the data we’ll preprocess and analyze."
   ]
  },
  {
   "cell_type": "code",
   "execution_count": 2,
   "id": "1190fe8d-c69a-41c2-a62b-5981cb46ddbb",
   "metadata": {},
   "outputs": [
    {
     "name": "stdout",
     "output_type": "stream",
     "text": [
      "Shape: (7043, 21)\n"
     ]
    },
    {
     "data": {
      "text/html": [
       "<div>\n",
       "<style scoped>\n",
       "    .dataframe tbody tr th:only-of-type {\n",
       "        vertical-align: middle;\n",
       "    }\n",
       "\n",
       "    .dataframe tbody tr th {\n",
       "        vertical-align: top;\n",
       "    }\n",
       "\n",
       "    .dataframe thead th {\n",
       "        text-align: right;\n",
       "    }\n",
       "</style>\n",
       "<table border=\"1\" class=\"dataframe\">\n",
       "  <thead>\n",
       "    <tr style=\"text-align: right;\">\n",
       "      <th></th>\n",
       "      <th>customerID</th>\n",
       "      <th>gender</th>\n",
       "      <th>SeniorCitizen</th>\n",
       "      <th>Partner</th>\n",
       "      <th>Dependents</th>\n",
       "      <th>tenure</th>\n",
       "      <th>PhoneService</th>\n",
       "      <th>MultipleLines</th>\n",
       "      <th>InternetService</th>\n",
       "      <th>OnlineSecurity</th>\n",
       "      <th>...</th>\n",
       "      <th>DeviceProtection</th>\n",
       "      <th>TechSupport</th>\n",
       "      <th>StreamingTV</th>\n",
       "      <th>StreamingMovies</th>\n",
       "      <th>Contract</th>\n",
       "      <th>PaperlessBilling</th>\n",
       "      <th>PaymentMethod</th>\n",
       "      <th>MonthlyCharges</th>\n",
       "      <th>TotalCharges</th>\n",
       "      <th>Churn</th>\n",
       "    </tr>\n",
       "  </thead>\n",
       "  <tbody>\n",
       "    <tr>\n",
       "      <th>0</th>\n",
       "      <td>7590-VHVEG</td>\n",
       "      <td>Female</td>\n",
       "      <td>0</td>\n",
       "      <td>Yes</td>\n",
       "      <td>No</td>\n",
       "      <td>1</td>\n",
       "      <td>No</td>\n",
       "      <td>No phone service</td>\n",
       "      <td>DSL</td>\n",
       "      <td>No</td>\n",
       "      <td>...</td>\n",
       "      <td>No</td>\n",
       "      <td>No</td>\n",
       "      <td>No</td>\n",
       "      <td>No</td>\n",
       "      <td>Month-to-month</td>\n",
       "      <td>Yes</td>\n",
       "      <td>Electronic check</td>\n",
       "      <td>29.85</td>\n",
       "      <td>29.85</td>\n",
       "      <td>No</td>\n",
       "    </tr>\n",
       "    <tr>\n",
       "      <th>1</th>\n",
       "      <td>5575-GNVDE</td>\n",
       "      <td>Male</td>\n",
       "      <td>0</td>\n",
       "      <td>No</td>\n",
       "      <td>No</td>\n",
       "      <td>34</td>\n",
       "      <td>Yes</td>\n",
       "      <td>No</td>\n",
       "      <td>DSL</td>\n",
       "      <td>Yes</td>\n",
       "      <td>...</td>\n",
       "      <td>Yes</td>\n",
       "      <td>No</td>\n",
       "      <td>No</td>\n",
       "      <td>No</td>\n",
       "      <td>One year</td>\n",
       "      <td>No</td>\n",
       "      <td>Mailed check</td>\n",
       "      <td>56.95</td>\n",
       "      <td>1889.5</td>\n",
       "      <td>No</td>\n",
       "    </tr>\n",
       "    <tr>\n",
       "      <th>2</th>\n",
       "      <td>3668-QPYBK</td>\n",
       "      <td>Male</td>\n",
       "      <td>0</td>\n",
       "      <td>No</td>\n",
       "      <td>No</td>\n",
       "      <td>2</td>\n",
       "      <td>Yes</td>\n",
       "      <td>No</td>\n",
       "      <td>DSL</td>\n",
       "      <td>Yes</td>\n",
       "      <td>...</td>\n",
       "      <td>No</td>\n",
       "      <td>No</td>\n",
       "      <td>No</td>\n",
       "      <td>No</td>\n",
       "      <td>Month-to-month</td>\n",
       "      <td>Yes</td>\n",
       "      <td>Mailed check</td>\n",
       "      <td>53.85</td>\n",
       "      <td>108.15</td>\n",
       "      <td>Yes</td>\n",
       "    </tr>\n",
       "    <tr>\n",
       "      <th>3</th>\n",
       "      <td>7795-CFOCW</td>\n",
       "      <td>Male</td>\n",
       "      <td>0</td>\n",
       "      <td>No</td>\n",
       "      <td>No</td>\n",
       "      <td>45</td>\n",
       "      <td>No</td>\n",
       "      <td>No phone service</td>\n",
       "      <td>DSL</td>\n",
       "      <td>Yes</td>\n",
       "      <td>...</td>\n",
       "      <td>Yes</td>\n",
       "      <td>Yes</td>\n",
       "      <td>No</td>\n",
       "      <td>No</td>\n",
       "      <td>One year</td>\n",
       "      <td>No</td>\n",
       "      <td>Bank transfer (automatic)</td>\n",
       "      <td>42.30</td>\n",
       "      <td>1840.75</td>\n",
       "      <td>No</td>\n",
       "    </tr>\n",
       "    <tr>\n",
       "      <th>4</th>\n",
       "      <td>9237-HQITU</td>\n",
       "      <td>Female</td>\n",
       "      <td>0</td>\n",
       "      <td>No</td>\n",
       "      <td>No</td>\n",
       "      <td>2</td>\n",
       "      <td>Yes</td>\n",
       "      <td>No</td>\n",
       "      <td>Fiber optic</td>\n",
       "      <td>No</td>\n",
       "      <td>...</td>\n",
       "      <td>No</td>\n",
       "      <td>No</td>\n",
       "      <td>No</td>\n",
       "      <td>No</td>\n",
       "      <td>Month-to-month</td>\n",
       "      <td>Yes</td>\n",
       "      <td>Electronic check</td>\n",
       "      <td>70.70</td>\n",
       "      <td>151.65</td>\n",
       "      <td>Yes</td>\n",
       "    </tr>\n",
       "    <tr>\n",
       "      <th>5</th>\n",
       "      <td>9305-CDSKC</td>\n",
       "      <td>Female</td>\n",
       "      <td>0</td>\n",
       "      <td>No</td>\n",
       "      <td>No</td>\n",
       "      <td>8</td>\n",
       "      <td>Yes</td>\n",
       "      <td>Yes</td>\n",
       "      <td>Fiber optic</td>\n",
       "      <td>No</td>\n",
       "      <td>...</td>\n",
       "      <td>Yes</td>\n",
       "      <td>No</td>\n",
       "      <td>Yes</td>\n",
       "      <td>Yes</td>\n",
       "      <td>Month-to-month</td>\n",
       "      <td>Yes</td>\n",
       "      <td>Electronic check</td>\n",
       "      <td>99.65</td>\n",
       "      <td>820.5</td>\n",
       "      <td>Yes</td>\n",
       "    </tr>\n",
       "    <tr>\n",
       "      <th>6</th>\n",
       "      <td>1452-KIOVK</td>\n",
       "      <td>Male</td>\n",
       "      <td>0</td>\n",
       "      <td>No</td>\n",
       "      <td>Yes</td>\n",
       "      <td>22</td>\n",
       "      <td>Yes</td>\n",
       "      <td>Yes</td>\n",
       "      <td>Fiber optic</td>\n",
       "      <td>No</td>\n",
       "      <td>...</td>\n",
       "      <td>No</td>\n",
       "      <td>No</td>\n",
       "      <td>Yes</td>\n",
       "      <td>No</td>\n",
       "      <td>Month-to-month</td>\n",
       "      <td>Yes</td>\n",
       "      <td>Credit card (automatic)</td>\n",
       "      <td>89.10</td>\n",
       "      <td>1949.4</td>\n",
       "      <td>No</td>\n",
       "    </tr>\n",
       "  </tbody>\n",
       "</table>\n",
       "<p>7 rows × 21 columns</p>\n",
       "</div>"
      ],
      "text/plain": [
       "   customerID  gender  SeniorCitizen Partner Dependents  tenure PhoneService  \\\n",
       "0  7590-VHVEG  Female              0     Yes         No       1           No   \n",
       "1  5575-GNVDE    Male              0      No         No      34          Yes   \n",
       "2  3668-QPYBK    Male              0      No         No       2          Yes   \n",
       "3  7795-CFOCW    Male              0      No         No      45           No   \n",
       "4  9237-HQITU  Female              0      No         No       2          Yes   \n",
       "5  9305-CDSKC  Female              0      No         No       8          Yes   \n",
       "6  1452-KIOVK    Male              0      No        Yes      22          Yes   \n",
       "\n",
       "      MultipleLines InternetService OnlineSecurity  ... DeviceProtection  \\\n",
       "0  No phone service             DSL             No  ...               No   \n",
       "1                No             DSL            Yes  ...              Yes   \n",
       "2                No             DSL            Yes  ...               No   \n",
       "3  No phone service             DSL            Yes  ...              Yes   \n",
       "4                No     Fiber optic             No  ...               No   \n",
       "5               Yes     Fiber optic             No  ...              Yes   \n",
       "6               Yes     Fiber optic             No  ...               No   \n",
       "\n",
       "  TechSupport StreamingTV StreamingMovies        Contract PaperlessBilling  \\\n",
       "0          No          No              No  Month-to-month              Yes   \n",
       "1          No          No              No        One year               No   \n",
       "2          No          No              No  Month-to-month              Yes   \n",
       "3         Yes          No              No        One year               No   \n",
       "4          No          No              No  Month-to-month              Yes   \n",
       "5          No         Yes             Yes  Month-to-month              Yes   \n",
       "6          No         Yes              No  Month-to-month              Yes   \n",
       "\n",
       "               PaymentMethod MonthlyCharges  TotalCharges Churn  \n",
       "0           Electronic check          29.85         29.85    No  \n",
       "1               Mailed check          56.95        1889.5    No  \n",
       "2               Mailed check          53.85        108.15   Yes  \n",
       "3  Bank transfer (automatic)          42.30       1840.75    No  \n",
       "4           Electronic check          70.70        151.65   Yes  \n",
       "5           Electronic check          99.65         820.5   Yes  \n",
       "6    Credit card (automatic)          89.10        1949.4    No  \n",
       "\n",
       "[7 rows x 21 columns]"
      ]
     },
     "execution_count": 2,
     "metadata": {},
     "output_type": "execute_result"
    }
   ],
   "source": [
    "DATA_PATH = \"../data/Telco_customer_churn_dataset.csv\"\n",
    "\n",
    "df = pd.read_csv(DATA_PATH)\n",
    "print(\"Shape:\", df.shape)\n",
    "df.head(7)"
   ]
  },
  {
   "cell_type": "markdown",
   "id": "dc2120e8-ddf4-4038-9680-67f1e955c804",
   "metadata": {},
   "source": [
    "### Exploring Dataset Information and Missing Values  \n",
    "\n",
    "In this step, we investigate the structure and quality of the   \n",
    "\n",
    "- **df.info()** → Provides an overview of the dataset, including column names, data types, and non-null counts. This helps identify categorical vs. numerical columns.  \n",
    "- **df.isnull().sum()** → Displays the number of missing values for each column, allowing us to detect data quality issues early.  \n",
    "- **Unique value counts for selected columns** → For important categorical columns like *gender, SeniorCitizen, Partner, Dependents, PhoneService, InternetService, Contract, PaymentMethod,* and *Churn*, we check how many distinct values they contain.  \n",
    "\n",
    "This exploration step helps in:  \n",
    "1. Identifying missing data that may need imputation.  \n",
    "2. Understanding the categorical variables for encoding in preprocessing.  \n",
    "3. Spotting potential data irregularities before modeling.  \n",
    "\n",
    "Essentially, it sets the foundation for **data cleaning and feature engineering** in later steps."
   ]
  },
  {
   "cell_type": "code",
   "execution_count": 3,
   "id": "56f4fa5d-1510-4d75-8d06-17158ff55961",
   "metadata": {},
   "outputs": [
    {
     "name": "stdout",
     "output_type": "stream",
     "text": [
      "<class 'pandas.core.frame.DataFrame'>\n",
      "RangeIndex: 7043 entries, 0 to 7042\n",
      "Data columns (total 21 columns):\n",
      " #   Column            Non-Null Count  Dtype  \n",
      "---  ------            --------------  -----  \n",
      " 0   customerID        7043 non-null   object \n",
      " 1   gender            7043 non-null   object \n",
      " 2   SeniorCitizen     7043 non-null   int64  \n",
      " 3   Partner           7043 non-null   object \n",
      " 4   Dependents        7043 non-null   object \n",
      " 5   tenure            7043 non-null   int64  \n",
      " 6   PhoneService      7043 non-null   object \n",
      " 7   MultipleLines     7043 non-null   object \n",
      " 8   InternetService   7043 non-null   object \n",
      " 9   OnlineSecurity    7043 non-null   object \n",
      " 10  OnlineBackup      7043 non-null   object \n",
      " 11  DeviceProtection  7043 non-null   object \n",
      " 12  TechSupport       7043 non-null   object \n",
      " 13  StreamingTV       7043 non-null   object \n",
      " 14  StreamingMovies   7043 non-null   object \n",
      " 15  Contract          7043 non-null   object \n",
      " 16  PaperlessBilling  7043 non-null   object \n",
      " 17  PaymentMethod     7043 non-null   object \n",
      " 18  MonthlyCharges    7043 non-null   float64\n",
      " 19  TotalCharges      7043 non-null   object \n",
      " 20  Churn             7043 non-null   object \n",
      "dtypes: float64(1), int64(2), object(18)\n",
      "memory usage: 1.1+ MB\n",
      "\n",
      "Missing values per column:\n",
      " customerID          0\n",
      "gender              0\n",
      "SeniorCitizen       0\n",
      "Partner             0\n",
      "Dependents          0\n",
      "tenure              0\n",
      "PhoneService        0\n",
      "MultipleLines       0\n",
      "InternetService     0\n",
      "OnlineSecurity      0\n",
      "OnlineBackup        0\n",
      "DeviceProtection    0\n",
      "TechSupport         0\n",
      "StreamingTV         0\n",
      "StreamingMovies     0\n",
      "Contract            0\n",
      "PaperlessBilling    0\n",
      "PaymentMethod       0\n",
      "MonthlyCharges      0\n",
      "TotalCharges        0\n",
      "Churn               0\n",
      "dtype: int64\n",
      "\n",
      "Sample unique counts:\n",
      "gender: 2\n",
      "SeniorCitizen: 2\n",
      "Partner: 2\n",
      "Dependents: 2\n",
      "PhoneService: 2\n",
      "InternetService: 3\n",
      "Contract: 3\n",
      "PaymentMethod: 4\n",
      "Churn: 2\n"
     ]
    }
   ],
   "source": [
    "df.info()\n",
    "print(\"\\nMissing values per column:\\n\", df.isnull().sum())\n",
    "print(\"\\nSample unique counts:\")\n",
    "for col in ['gender','SeniorCitizen','Partner','Dependents','PhoneService','InternetService','Contract','PaymentMethod','Churn']:\n",
    "    if col in df.columns:\n",
    "        print(f\"{col}: {df[col].nunique()}\")"
   ]
  },
  {
   "cell_type": "markdown",
   "id": "fbfa854f-9364-4093-a394-19a669e88223",
   "metadata": {},
   "source": [
    "### Handling Data Type Conversion and Missing Values  \n",
    "\n",
    "In this step, we focus on cleaning the **TotalCharges** column:  \n",
    "\n",
    "- **pd.to_numeric(..., errors='coerce')** → Converts the `TotalCharges` column to numeric values. If some entries are invalid (e.g., spaces or non-numeric strings), they are converted to `NaN`.  \n",
    "- **isna().sum()** → Counts how many values turned into `NaN` after conversion, helping us confirm data inconsistencies.  \n",
    "- **fillna(df['TotalCharges'].median())** → Replaces all missing values in `TotalCharges` with the median of the column. Median imputation is chosen because it is less sensitive to extreme values compared to mean, ensuring stability.  \n",
    "\n",
    "By the end of this step, the `TotalCharges` column is clean, numeric, and free of missing values—making it ready for feature scaling and model training."
   ]
  },
  {
   "cell_type": "code",
   "execution_count": 4,
   "id": "b9a32159-73b1-4f57-acb2-a9b6fda3333b",
   "metadata": {},
   "outputs": [
    {
     "name": "stdout",
     "output_type": "stream",
     "text": [
      "TotalCharges nulls after conversion: 11\n"
     ]
    }
   ],
   "source": [
    "if 'TotalCharges' in df.columns:\n",
    "    df['TotalCharges'] = pd.to_numeric(df['TotalCharges'], errors='coerce')\n",
    "    # count coerced\n",
    "    print(\"TotalCharges nulls after conversion:\", df['TotalCharges'].isna().sum())\n",
    "    # filling with median\n",
    "    df['TotalCharges'] = df['TotalCharges'].fillna(df['TotalCharges'].median())"
   ]
  },
  {
   "cell_type": "markdown",
   "id": "c2374df2-3d70-4aca-903d-e503012d38c9",
   "metadata": {},
   "source": [
    "### Cleaning Column Names and Dropping Irrelevant Features  \n",
    "\n",
    "Here, we refine the dataset by cleaning column names and removing unnecessary identifiers:  \n",
    "\n",
    "- **df.columns.str.strip()** → Removes any leading or trailing spaces from column names to prevent errors during preprocessing.  \n",
    "- **drop(columns=['customerID'])** → The `customerID` column is dropped since it serves only as a unique identifier and does not contribute to predicting churn.  \n",
    "- **df.columns.tolist()** → Prints the updated list of columns to confirm that the dataset now only contains relevant features.  \n",
    "\n",
    "This step ensures that the dataset has clean labels and contains only meaningful features for churn prediction, avoiding unnecessary noise in modeling."
   ]
  },
  {
   "cell_type": "code",
   "execution_count": 5,
   "id": "41525a4d-5eb2-4737-9e07-91b05f29896a",
   "metadata": {},
   "outputs": [
    {
     "name": "stdout",
     "output_type": "stream",
     "text": [
      "Columns: ['gender', 'SeniorCitizen', 'Partner', 'Dependents', 'tenure', 'PhoneService', 'MultipleLines', 'InternetService', 'OnlineSecurity', 'OnlineBackup', 'DeviceProtection', 'TechSupport', 'StreamingTV', 'StreamingMovies', 'Contract', 'PaperlessBilling', 'PaymentMethod', 'MonthlyCharges', 'TotalCharges', 'Churn']\n"
     ]
    }
   ],
   "source": [
    "df.columns = df.columns.str.strip()\n",
    "if 'customerID' in df.columns:\n",
    "    df = df.drop(columns=['customerID'])\n",
    "print(\"Columns:\", df.columns.tolist())"
   ]
  },
  {
   "cell_type": "markdown",
   "id": "b0c3d406-1f91-45ff-bd43-9d932ed626c5",
   "metadata": {},
   "source": [
    "### Encoding the Target Variable (Churn)  \n",
    "\n",
    "In this step, we convert the target column `Churn` into a numerical format suitable for machine learning models:  \n",
    "\n",
    "- **df['Churn'].map({'Yes':1, 'No':0})** → Maps churn decisions into binary values:  \n",
    "  - **1** → Customer has churned.  \n",
    "  - **0** → Customer did not churn.  \n",
    "- **value_counts(normalize=True)** → Displays the proportion of churned vs. non-churned customers, giving an idea of class distribution (whether the dataset is balanced or imbalanced).  \n",
    "\n",
    "By encoding the target variable, we make it compatible with classification algorithms and also gain insight into churn prevalence in the dataset."
   ]
  },
  {
   "cell_type": "code",
   "execution_count": 6,
   "id": "ed7d549c-5a9e-46f1-9637-7052a5265d6a",
   "metadata": {},
   "outputs": [
    {
     "name": "stdout",
     "output_type": "stream",
     "text": [
      "Churn distribution:\n",
      " Churn\n",
      "0    0.73463\n",
      "1    0.26537\n",
      "Name: proportion, dtype: float64\n"
     ]
    }
   ],
   "source": [
    "df['Churn'] = df['Churn'].map({'Yes':1, 'No':0})\n",
    "print(\"Churn distribution:\\n\", df['Churn'].value_counts(normalize=True))"
   ]
  },
  {
   "cell_type": "markdown",
   "id": "e987aeb7-ad45-44be-ab77-7429dcafd23d",
   "metadata": {},
   "source": [
    "### Visualizing Target Distribution and Key Features  \n",
    "\n",
    "This step involves exploratory visualizations to understand the distribution of churn and its relationship with important numeric features:  \n",
    "\n",
    "- **Churn Countplot** → Shows the count of customers who churned (1) vs. those who stayed (0). It helps visualize class imbalance directly.  \n",
    "- **MonthlyCharges Histogram by Churn** → Displays the distribution of monthly charges for churned vs. non-churned customers. Differences here can reveal whether pricing impacts churn behavior.  \n",
    "- **Tenure Boxplot by Churn** → Compares the tenure (length of customer relationship) between churned and non-churned groups using boxplots. It highlights if longer-tenured customers are less likely to churn.  \n",
    "\n",
    "These plots provide insights on how some key features relate to churn, guiding feature engineering and model design."
   ]
  },
  {
   "cell_type": "code",
   "execution_count": 7,
   "id": "31d3e881-0f87-4cca-a23f-b40657d8809b",
   "metadata": {},
   "outputs": [
    {
     "data": {
      "image/png": "[encoded data removed]",
      "text/plain": [
       "<Figure size 600x400 with 1 Axes>"
      ]
     },
     "metadata": {},
     "output_type": "display_data"
    },
    {
     "data": {
      "image/png": "[encoded data removed]",
      "text/plain": [
       "<Figure size 800x500 with 1 Axes>"
      ]
     },
     "metadata": {},
     "output_type": "display_data"
    },
    {
     "data": {
      "image/png": "[encoded data removed]",
      "text/plain": [
       "<Figure size 800x500 with 1 Axes>"
      ]
     },
     "metadata": {},
     "output_type": "display_data"
    }
   ],
   "source": [
    "plt.figure(figsize=(6,4))\n",
    "sns.countplot(x='Churn', data=df)\n",
    "plt.title('Churn count (1 = churn)')\n",
    "plt.show()\n",
    "\n",
    "plt.figure(figsize=(8,5))\n",
    "sns.histplot(data=df, x='MonthlyCharges', hue='Churn', bins=30, kde=False, stat='count')\n",
    "plt.title('MonthlyCharges by Churn')\n",
    "plt.show()\n",
    "\n",
    "plt.figure(figsize=(8,5))\n",
    "sns.boxplot(data=df, x='Churn', y='tenure')\n",
    "plt.title('Tenure by Churn')\n",
    "plt.show()"
   ]
  },
  {
   "cell_type": "markdown",
   "id": "886e4862-9dde-4b17-8fab-f111af03c201",
   "metadata": {},
   "source": [
    "### Analyzing Churn Rate by Contract Type  \n",
    "\n",
    "In this step, we analyze how the type of contract influences churn behavior:  \n",
    "\n",
    "- **Group by `Contract` and calculate mean churn** → Aggregates customers by their contract type (e.g., month-to-month, one year, two year) and computes the average churn rate within each group.  \n",
    "- **Sort values descending** → Orders contract types from highest to lowest churn rate, helping identify which contract types are most associated with churn.  \n",
    "\n",
    "This analysis helps uncover patterns or risk factors related to contract duration impacting customer loyalty."
   ]
  },
  {
   "cell_type": "code",
   "execution_count": 8,
   "id": "700df4ed-8139-405d-a299-07fcae1187cf",
   "metadata": {},
   "outputs": [
    {
     "name": "stdout",
     "output_type": "stream",
     "text": [
      "Churn rate by Contract:\n",
      " Contract\n",
      "Month-to-month    0.427097\n",
      "One year          0.112695\n",
      "Two year          0.028319\n",
      "Name: Churn, dtype: float64\n"
     ]
    }
   ],
   "source": [
    "if 'Contract' in df.columns:\n",
    "    churn_by_contract = df.groupby('Contract')['Churn'].mean().sort_values(ascending=False)\n",
    "    print(\"Churn rate by Contract:\\n\", churn_by_contract)"
   ]
  },
  {
   "cell_type": "markdown",
   "id": "96dc2504-bdb0-4aa8-8bd4-9faf80c17241",
   "metadata": {},
   "source": [
    "### Defining Numeric Features  \n",
    "\n",
    "Here, we explicitly select the numeric features from the dataset that will be used for modeling:  \n",
    "\n",
    "- **`tenure`** → Customer’s duration (in months) with the company.  \n",
    "- **`MonthlyCharges`** → The monthly fee charged to the customer.  \n",
    "- **`TotalCharges`** → The total amount charged to the customer over their tenure.  \n",
    "- **`SeniorCitizen`** → A binary indicator (0 or 1) specifying if the customer is a senior citizen.  \n",
    "\n",
    "Identifying numeric columns is crucial for applying appropriate preprocessing steps like scaling and imputation."
   ]
  },
  {
   "cell_type": "code",
   "execution_count": 9,
   "id": "92afe3c1-0431-4d13-b4e6-97554e3d5e4e",
   "metadata": {},
   "outputs": [],
   "source": [
    "# Numeric features\n",
    "numeric_features = ['tenure','MonthlyCharges','TotalCharges','SeniorCitizen']"
   ]
  },
  {
   "cell_type": "markdown",
   "id": "43cbeef5-980a-4086-9722-c16d073c67c5",
   "metadata": {},
   "source": [
    "### Identifying Categorical Features  \n",
    "\n",
    "In this step, we separate numeric and categorical features for targeted preprocessing:  \n",
    "\n",
    "- **all_features** → List of all dataset columns excluding the target `Churn`.  \n",
    "- **Removing numeric features** → Numeric features defined previously are removed from `all_features` to isolate categorical features.  \n",
    "- **categorical_features** → Remaining columns interpreted as categorical features, excluding the target.  \n",
    "- **Print statements** → Display the lists of numeric and categorical feature names for confirmation.  \n",
    "\n",
    "This clear separation enables tailored preprocessing pipelines for numeric and categorical variables later in the workflow."
   ]
  },
  {
   "cell_type": "code",
   "execution_count": 10,
   "id": "c4d65a37-a0bd-40d3-8f6e-5ceae7828433",
   "metadata": {},
   "outputs": [
    {
     "name": "stdout",
     "output_type": "stream",
     "text": [
      "Numeric: ['tenure', 'MonthlyCharges', 'TotalCharges', 'SeniorCitizen']\n",
      "Categorical: ['gender', 'Partner', 'Dependents', 'PhoneService', 'MultipleLines', 'InternetService', 'OnlineSecurity', 'OnlineBackup', 'DeviceProtection', 'TechSupport', 'StreamingTV', 'StreamingMovies', 'Contract', 'PaperlessBilling', 'PaymentMethod']\n"
     ]
    }
   ],
   "source": [
    "all_features = df.columns.tolist()\n",
    "all_features.remove('Churn')\n",
    "for nf in numeric_features:\n",
    "    if nf in all_features:\n",
    "        all_features.remove(nf)\n",
    "categorical_features = [c for c in all_features if c != 'Churn']\n",
    "\n",
    "print(\"Numeric:\", numeric_features)\n",
    "print(\"Categorical:\", categorical_features)"
   ]
  },
  {
   "cell_type": "markdown",
   "id": "8ab4330c-994c-47d0-adab-288a378ee56a",
   "metadata": {},
   "source": [
    "### Splitting Data into Training and Testing Sets  \n",
    "\n",
    "In this step, we prepare the dataset for modeling by splitting features and target, then creating train-test splits:  \n",
    "\n",
    "- **X = df.drop(columns=['Churn'])** → Defines the feature matrix excluding the target column.  \n",
    "- **y = df['Churn']** → Defines the target vector (churn labels).  \n",
    "- **train_test_split(...)** → Splits the dataset into training and testing sets:  \n",
    "  - **test_size=0.2** → Reserves 20% of data as test set for performance evaluation.  \n",
    "  - **random_state=RANDOM_STATE** → Ensures reproducibility by fixing randomness.  \n",
    "  - **stratify=y** → Maintains the original class distribution in both train and test sets, which is important for imbalanced classification problems.  \n",
    "- **Print statement** → Confirms the dimensions of training and testing datasets.  \n",
    "\n",
    "This step is critical for unbiased model evaluation on unseen data."
   ]
  },
  {
   "cell_type": "code",
   "execution_count": 11,
   "id": "403aac1b-e9c0-4988-8241-0137a84fec02",
   "metadata": {},
   "outputs": [
    {
     "name": "stdout",
     "output_type": "stream",
     "text": [
      "Train/Test sizes: (5634, 19) (1409, 19)\n"
     ]
    }
   ],
   "source": [
    "X = df.drop(columns=['Churn'])\n",
    "y = df['Churn']\n",
    "\n",
    "X_train, X_test, y_train, y_test = train_test_split(\n",
    "    X, y, test_size=0.2, random_state=RANDOM_STATE, stratify=y\n",
    ")\n",
    "print(\"Train/Test sizes:\", X_train.shape, X_test.shape)"
   ]
  },
  {
   "cell_type": "markdown",
   "id": "ed79bac4-5ecf-4af9-af6a-67f8af7eb248",
   "metadata": {},
   "source": [
    "### Building Preprocessing Pipelines  \n",
    "\n",
    "This step defines the preprocessing transformations for numeric and categorical features before modeling:  \n",
    "\n",
    "- **Numeric Transformer Pipeline**:  \n",
    "  - `SimpleImputer(strategy='median')` → Fills missing numeric values with the median to reduce bias from outliers.  \n",
    "  - `StandardScaler()` → Scales numeric features to have zero mean and unit variance, improving algorithm performance.  \n",
    "\n",
    "- **Categorical Transformer Pipeline**:  \n",
    "  - `SimpleImputer(strategy='most_frequent')` → Fills missing categorical values with the most common category in each feature.  \n",
    "  - `OneHotEncoder(handle_unknown='ignore', sparse_output=False)` → Converts categorical variables into a one-hot encoded numeric array, ignoring unseen categories in new data.  \n",
    "\n",
    "- **ColumnTransformer**:  \n",
    "  - Combines numeric and categorical pipelines to apply the appropriate transformations to respective feature sets simultaneously.  \n",
    "\n",
    "This modular preprocessing setup ensures clean, well-structured input data for machine learning models."
   ]
  },
  {
   "cell_type": "code",
   "execution_count": 13,
   "id": "bad5935a-bb6c-4251-9990-0e550390fb51",
   "metadata": {},
   "outputs": [],
   "source": [
    "numeric_transformer = Pipeline(steps=[\n",
    "    ('imputer', SimpleImputer(strategy='median')),\n",
    "    ('scaler', StandardScaler())\n",
    "])\n",
    "\n",
    "categorical_transformer = Pipeline(steps=[\n",
    "    ('imputer', SimpleImputer(strategy='most_frequent')),\n",
    "    ('onehot', OneHotEncoder(handle_unknown='ignore', sparse_output=False))\n",
    "])\n",
    "\n",
    "preprocessor = ColumnTransformer(transformers=[\n",
    "    ('num', numeric_transformer, numeric_features),\n",
    "    ('cat', categorical_transformer, categorical_features)\n",
    "])"
   ]
  },
  {
   "cell_type": "markdown",
   "id": "7a4e9bab-a224-4be7-a473-fe3e3331348f",
   "metadata": {},
   "source": [
    "### Training and Evaluating Logistic Regression Model  \n",
    "\n",
    "In this step, we build a complete pipeline by combining preprocessing with a Logistic Regression classifier:  \n",
    "\n",
    "- **Pipeline construction**:  \n",
    "  - Combines the previously defined `preprocessor` with a `LogisticRegression` model.  \n",
    "  - `class_weight='balanced'` addresses class imbalance by adjusting weights inversely proportional to class frequencies.  \n",
    "  - `max_iter=1000` allows more iterations for convergence.  \n",
    "  - `random_state` ensures reproducibility.  \n",
    "\n",
    "- **Model training**:  \n",
    "  - `fit(X_train, y_train)` trains the logistic regression on the training data with all preprocessing applied within the pipeline.  \n",
    "\n",
    "- **Predictions and evaluation**:  \n",
    "  - `predict(X_test)` generates binary churn predictions on the test data.  \n",
    "  - `predict_proba(X_test)[:,1]` provides predicted probabilities of churn for ROC AUC calculation.  \n",
    "  - Prints the classification report including precision, recall, f1-score, and support for each class.  \n",
    "  - Prints ROC AUC score to measure model’s ability to distinguish between churners and non-churners.  \n",
    "\n",
    "This step gives a baseline performance evaluation of logistic regression on the churn prediction task."
   ]
  },
  {
   "cell_type": "code",
   "execution_count": 14,
   "id": "5b35764d-28b3-441d-a1c8-3cda88eccde8",
   "metadata": {},
   "outputs": [
    {
     "name": "stdout",
     "output_type": "stream",
     "text": [
      "Logistic Regression results:\n",
      "              precision    recall  f1-score   support\n",
      "\n",
      "           0       0.90      0.72      0.80      1035\n",
      "           1       0.50      0.78      0.61       374\n",
      "\n",
      "    accuracy                           0.74      1409\n",
      "   macro avg       0.70      0.75      0.71      1409\n",
      "weighted avg       0.80      0.74      0.75      1409\n",
      "\n",
      "ROC AUC: 0.8412978893797307\n"
     ]
    }
   ],
   "source": [
    "lr_pipeline = Pipeline(steps=[\n",
    "    ('preprocessor', preprocessor),\n",
    "    ('clf', LogisticRegression(class_weight='balanced', max_iter=1000, random_state=RANDOM_STATE))\n",
    "])\n",
    "\n",
    "lr_pipeline.fit(X_train, y_train)\n",
    "\n",
    "y_pred_lr = lr_pipeline.predict(X_test)\n",
    "y_proba_lr = lr_pipeline.predict_proba(X_test)[:,1]\n",
    "\n",
    "print(\"Logistic Regression results:\")\n",
    "print(classification_report(y_test, y_pred_lr))\n",
    "print(\"ROC AUC:\", roc_auc_score(y_test, y_proba_lr))"
   ]
  },
  {
   "cell_type": "markdown",
   "id": "3f34f8c1-845b-411d-8d79-7850d5c51061",
   "metadata": {},
   "source": [
    "### Random Forest Model with Hyperparameter Tuning  \n",
    "\n",
    "This step enhances the churn prediction model using a Random Forest classifier with hyperparameter optimization:  \n",
    "\n",
    "- **Pipeline setup**:  \n",
    "  - Combines the preprocessing step with a `RandomForestClassifier` using balanced class weights to handle class imbalance.  \n",
    "  - `n_jobs=-1` enables parallel processing to speed up training.  \n",
    "\n",
    "- **Hyperparameter search space (`param_dist`)**:  \n",
    "  - `n_estimators`: Number of decision trees in the forest (100, 200, 300).  \n",
    "  - `max_depth`: Maximum tree depth (None means unlimited, or specified depths like 8, 16, 24).  \n",
    "  - `min_samples_split`: Minimum samples required to split a node (2, 5, 10).  \n",
    "  - `min_samples_leaf`: Minimum samples required in a leaf node (1, 2, 4).  \n",
    "\n",
    "- **RandomizedSearchCV setup**:  \n",
    "  - Performs a randomized search with 20 iterations over the hyperparameter grid.  \n",
    "  - Uses 3-fold cross-validation and optimizes for ROC AUC score.  \n",
    "  - Enables parallel processing for efficiency and verbose logging for progress tracking.  \n",
    "\n",
    "- **Fitting and results**:  \n",
    "  - Fits the randomized search to the training data.  \n",
    "  - Prints the best hyperparameters found and the corresponding cross-validation ROC AUC score.  \n",
    "  - Stores the best model pipeline for further evaluation.  \n",
    "\n",
    "This method finds a better-performing Random Forest model by automatically tuning hyperparameters to maximize churn prediction accuracy."
   ]
  },
  {
   "cell_type": "code",
   "execution_count": 15,
   "id": "c9ac764a-ecb7-4d5c-a17f-011b6e17cbfc",
   "metadata": {},
   "outputs": [
    {
     "name": "stdout",
     "output_type": "stream",
     "text": [
      "Fitting 3 folds for each of 20 candidates, totalling 60 fits\n",
      "Best params: {'clf__n_estimators': 100, 'clf__min_samples_split': 5, 'clf__min_samples_leaf': 1, 'clf__max_depth': 8}\n",
      "Best CV ROC AUC: 0.8473220926253028\n"
     ]
    }
   ],
   "source": [
    "rf_pipeline = Pipeline(steps=[\n",
    "    ('preprocessor', preprocessor),\n",
    "    ('clf', RandomForestClassifier(class_weight='balanced', random_state=RANDOM_STATE, n_jobs=-1))\n",
    "])\n",
    "\n",
    "param_dist = {\n",
    "    'clf__n_estimators': [100, 200, 300],\n",
    "    'clf__max_depth': [None, 8, 16, 24],\n",
    "    'clf__min_samples_split': [2, 5, 10],\n",
    "    'clf__min_samples_leaf': [1, 2, 4]\n",
    "}\n",
    "\n",
    "rs = RandomizedSearchCV(\n",
    "    rf_pipeline,\n",
    "    param_dist,\n",
    "    n_iter=20,\n",
    "    cv=3,\n",
    "    scoring='roc_auc',\n",
    "    random_state=RANDOM_STATE,\n",
    "    n_jobs=-1,\n",
    "    verbose=1\n",
    ")\n",
    "\n",
    "rs.fit(X_train, y_train)\n",
    "print(\"Best params:\", rs.best_params_)\n",
    "print(\"Best CV ROC AUC:\", rs.best_score_)\n",
    "best_model = rs.best_estimator_"
   ]
  },
  {
   "cell_type": "markdown",
   "id": "d2399002-73d9-4f8c-b953-ab3b6ace3486",
   "metadata": {},
   "source": [
    "### Evaluating the Best Random Forest Model  \n",
    "\n",
    "In this final evaluation step, we assess the performance of the best Random Forest model found during hyperparameter tuning:  \n",
    "\n",
    "- **Predictions**:  \n",
    "  - `predict(X_test)` generates the churn class predictions on the test set.  \n",
    "  - `predict_proba(X_test)[:,1]` gives the predicted probability of churn for ROC AUC calculation.  \n",
    "\n",
    "- **Performance metrics**:  \n",
    "  - `classification_report` details precision, recall, f1-score, and support for each class, providing a comprehensive view of classification quality.  \n",
    "  - `accuracy_score` reports the overall accuracy of the model on test data.  \n",
    "  - `roc_auc_score` measures the model’s ability to discriminate between churn and non-churn cases, crucial for imbalanced data.  \n",
    "\n",
    "This step validates the model’s effectiveness in predicting customer churn, summarizing its predictive strengths and areas for potential improvement."
   ]
  },
  {
   "cell_type": "code",
   "execution_count": 16,
   "id": "c3325e24-2571-4e23-9147-7268f9ad426f",
   "metadata": {},
   "outputs": [
    {
     "name": "stdout",
     "output_type": "stream",
     "text": [
      "RandomForest - classification report\n",
      "              precision    recall  f1-score   support\n",
      "\n",
      "           0       0.90      0.75      0.82      1035\n",
      "           1       0.53      0.77      0.63       374\n",
      "\n",
      "    accuracy                           0.76      1409\n",
      "   macro avg       0.72      0.76      0.73      1409\n",
      "weighted avg       0.80      0.76      0.77      1409\n",
      "\n",
      "Accuracy: 0.759403832505323\n",
      "ROC AUC: 0.8408367563099021\n"
     ]
    }
   ],
   "source": [
    "y_pred = best_model.predict(X_test)\n",
    "y_proba = best_model.predict_proba(X_test)[:,1]\n",
    "\n",
    "print(\"RandomForest - classification report\")\n",
    "print(classification_report(y_test, y_pred))\n",
    "print(\"Accuracy:\", accuracy_score(y_test, y_pred))\n",
    "print(\"ROC AUC:\", roc_auc_score(y_test, y_proba))"
   ]
  },
  {
   "cell_type": "markdown",
   "id": "c5cadc15-4b8e-4ce0-977d-95c452fc7a16",
   "metadata": {},
   "source": [
    "### Visualizing Model Performance with Confusion Matrix  \n",
    "\n",
    "In this step, we create a confusion matrix to visualize prediction results of the Random Forest model on the test set:  \n",
    "\n",
    "- **confusion_matrix(y_test, y_pred)** → Computes a matrix showing counts of:  \n",
    "  - True Negatives (correctly predicted no churn)  \n",
    "  - False Positives (incorrectly predicted churn)  \n",
    "  - False Negatives (missed churn cases)  \n",
    "  - True Positives (correctly predicted churn)  \n",
    "\n",
    "- **sns.heatmap(...)** → Displays the confusion matrix as a heatmap with annotations for easy interpretation.  \n",
    "- Axis labels (`Predicted`, `Actual`) and tick labels (`No`, `Yes`) clearly show classification results for each churn class.  \n",
    "- The plot title “Confusion Matrix” summarizes the visualization purpose.  \n",
    "\n",
    "The confusion matrix visually summarizes model prediction errors and successes, guiding further improvements or business decisions."
   ]
  },
  {
   "cell_type": "code",
   "execution_count": 17,
   "id": "1879ccce-9619-4ead-b310-4a5a9246a8dc",
   "metadata": {},
   "outputs": [
    {
     "data": {
      "image/png": "[encoded data removed]",
      "text/plain": [
       "<Figure size 500x400 with 2 Axes>"
      ]
     },
     "metadata": {},
     "output_type": "display_data"
    }
   ],
   "source": [
    "cm = confusion_matrix(y_test, y_pred)\n",
    "plt.figure(figsize=(5,4))\n",
    "sns.heatmap(cm, annot=True, fmt='d', cmap='Blues', xticklabels=['No','Yes'], yticklabels=['No','Yes'])\n",
    "plt.xlabel('Predicted')\n",
    "plt.ylabel('Actual')\n",
    "plt.title('Confusion Matrix')\n",
    "plt.show()"
   ]
  },
  {
   "cell_type": "markdown",
   "id": "feaed27f-2e0e-4d6e-b16b-7af963207163",
   "metadata": {},
   "source": [
    "### ROC Curve Visualization  \n",
    "\n",
    "This step visualizes the ROC (Receiver Operating Characteristic) curve to evaluate the model's discrimination ability:  \n",
    "\n",
    "- **roc_curve(y_test, y_proba)** → Computes the false positive rate (FPR) and true positive rate (TPR) at various probability thresholds.  \n",
    "- **Plotting**:  \n",
    "  - The ROC curve plots TPR vs. FPR, showing the tradeoff between sensitivity and specificity across thresholds.  \n",
    "  - The diagonal line (`k--`) represents a random classifier baseline for comparison.  \n",
    "  - The legend includes the computed Area Under the Curve (AUC), summarizing overall model performance in a single metric.  \n",
    "- **Labels and title** clarify the axes and plot purpose.  \n",
    "\n",
    "The ROC curve and AUC provide a comprehensive picture of model performance in distinguishing churners from non-churners, critical for imbalanced classification tasks."
   ]
  },
  {
   "cell_type": "code",
   "execution_count": 18,
   "id": "cab93995-2c99-4843-84d2-647d1d376abd",
   "metadata": {},
   "outputs": [
    {
     "data": {
      "image/png": "[encoded data removed]",
      "text/plain": [
       "<Figure size 600x500 with 1 Axes>"
      ]
     },
     "metadata": {},
     "output_type": "display_data"
    }
   ],
   "source": [
    "fpr, tpr, _ = roc_curve(y_test, y_proba)\n",
    "plt.figure(figsize=(6,5))\n",
    "plt.plot(fpr, tpr, label=f'ROC curve (AUC = {roc_auc_score(y_test, y_proba):.3f})')\n",
    "plt.plot([0,1],[0,1],'k--')\n",
    "plt.xlabel('False Positive Rate')\n",
    "plt.ylabel('True Positive Rate')\n",
    "plt.title('ROC Curve')\n",
    "plt.legend()\n",
    "plt.show()"
   ]
  },
  {
   "cell_type": "markdown",
   "id": "b7368d0e-4104-4285-b169-b629e9e893dd",
   "metadata": {},
   "source": [
    "### Feature Importance Analysis  \n",
    "\n",
    "In this step, we analyze which features contribute most to the Random Forest model’s churn predictions:  \n",
    "\n",
    "- **Extracting feature names**:  \n",
    "  - Retrieves one-hot encoded feature names from the preprocessing pipeline for categorical variables.  \n",
    "  - Combines these with the numeric feature names to create a complete list of input features after preprocessing.  \n",
    "\n",
    "- **Extracting feature importances**:  \n",
    "  - Accesses the `feature_importances_` attribute of the trained Random Forest classifier to get importance scores for each feature.  \n",
    "\n",
    "- **Creating a sorted series (`feat_imp`)**:  \n",
    "  - Maps importance scores to feature names and sorts them in descending order.  \n",
    "  - Prints the top 20 most important features that influence the model’s predictions.  \n",
    "\n",
    "This insight helps interpret the model and identify key drivers of customer churn."
   ]
  },
  {
   "cell_type": "code",
   "execution_count": 19,
   "id": "b6f88aaa-c08b-440b-abc8-bf602d38acec",
   "metadata": {},
   "outputs": [
    {
     "name": "stdout",
     "output_type": "stream",
     "text": [
      "tenure                                 0.129272\n",
      "Contract_Month-to-month                0.128176\n",
      "TotalCharges                           0.084496\n",
      "Contract_Two year                      0.074441\n",
      "OnlineSecurity_No                      0.073031\n",
      "MonthlyCharges                         0.060156\n",
      "InternetService_Fiber optic            0.056658\n",
      "TechSupport_No                         0.052363\n",
      "PaymentMethod_Electronic check         0.046267\n",
      "Contract_One year                      0.021502\n",
      "OnlineSecurity_Yes                     0.015360\n",
      "InternetService_DSL                    0.015207\n",
      "TechSupport_Yes                        0.014947\n",
      "OnlineBackup_No                        0.014898\n",
      "OnlineSecurity_No internet service     0.014287\n",
      "PaperlessBilling_No                    0.011126\n",
      "StreamingMovies_No internet service    0.010235\n",
      "TechSupport_No internet service        0.009386\n",
      "OnlineBackup_Yes                       0.009373\n",
      "PaperlessBilling_Yes                   0.009253\n",
      "dtype: float64\n"
     ]
    }
   ],
   "source": [
    "ohe = best_model.named_steps['preprocessor'].named_transformers_['cat'].named_steps['onehot']\n",
    "ohe_feature_names = list(ohe.get_feature_names_out(categorical_features))\n",
    "feature_names = numeric_features + ohe_feature_names\n",
    "\n",
    "importances = best_model.named_steps['clf'].feature_importances_\n",
    "feat_imp = pd.Series(importances, index=feature_names).sort_values(ascending=False)\n",
    "print(feat_imp.head(20))"
   ]
  },
  {
   "cell_type": "markdown",
   "id": "3e84af29-c1e3-4c68-94cb-b23408f2c969",
   "metadata": {},
   "source": [
    "### Visualizing Top Feature Importances  \n",
    "\n",
    "This step visualizes the most influential features identified by the Random Forest model:  \n",
    "\n",
    "- **Barh plot**:  \n",
    "  - Displays the top 12 features with the highest importance scores in a horizontal bar chart, sorted in ascending order for readability.  \n",
    "- **Figure size and title**:  \n",
    "  - The plot is sized for clarity and titled \"Top 12 Feature Importances\" to convey its purpose.  \n",
    "\n",
    "This visualization highlights key factors driving the model’s churn predictions, aiding interpretability and business insights."
   ]
  },
  {
   "cell_type": "code",
   "execution_count": 20,
   "id": "3295c0ad-c964-4386-a9e5-a1fe41114dbe",
   "metadata": {},
   "outputs": [
    {
     "data": {
      "image/png": "[encoded data removed]",
      "text/plain": [
       "<Figure size 800x600 with 1 Axes>"
      ]
     },
     "metadata": {},
     "output_type": "display_data"
    }
   ],
   "source": [
    "plt.figure(figsize=(8,6))\n",
    "feat_imp.head(12).sort_values().plot(kind='barh')\n",
    "plt.title('Top 12 Feature Importances')\n",
    "plt.show()"
   ]
  },
  {
   "cell_type": "markdown",
   "id": "159b42ae-d9d0-4b7b-8295-d72f98183bf1",
   "metadata": {},
   "source": [
    "### Handling Class Imbalance with SMOTE and Improved Pipeline  \n",
    "\n",
    "Here, we address the class imbalance issue by integrating SMOTE (Synthetic Minority Over-sampling Technique) into the pipeline:  \n",
    "\n",
    "- **Installing imbalanced-learn** → Installs the `imblearn` library, which includes tools for dealing with imbalanced datasets.  \n",
    "- **Using `ImbPipeline`** → A pipeline variant compatible with SMOTE and other resampling techniques.  \n",
    "- **SMOTE step** → Synthesizes new minority class samples (churn cases) to balance the training data distribution.  \n",
    "- **Pipeline structure**:  \n",
    "  - Preprocessing (`preprocessor`) is applied first.  \n",
    "  - SMOTE then generates synthetic samples only on the training data to avoid leakage.  \n",
    "  - Finally, a `RandomForestClassifier` is trained on the balanced data.  \n",
    "\n",
    "This approach aims to improve model performance by providing a more balanced representation of churners and non-churners during training."
   ]
  },
  {
   "cell_type": "code",
   "execution_count": 22,
   "id": "bf870f08-2e2a-43b9-8214-2c15fdb4574a",
   "metadata": {},
   "outputs": [
    {
     "name": "stdout",
     "output_type": "stream",
     "text": [
      "Collecting imbalanced-learn\n",
      "  Using cached imbalanced_learn-0.14.0-py3-none-any.whl.metadata (8.8 kB)\n",
      "Requirement already satisfied: numpy<3,>=1.25.2 in /opt/anaconda3/envs/dsenv/lib/python3.11/site-packages (from imbalanced-learn) (2.2.6)\n",
      "Requirement already satisfied: scipy<2,>=1.11.4 in /opt/anaconda3/envs/dsenv/lib/python3.11/site-packages (from imbalanced-learn) (1.15.3)\n",
      "Requirement already satisfied: scikit-learn<2,>=1.4.2 in /Users/vybhavk24/.local/lib/python3.11/site-packages (from imbalanced-learn) (1.7.0)\n",
      "Requirement already satisfied: joblib<2,>=1.2.0 in /opt/anaconda3/envs/dsenv/lib/python3.11/site-packages (from imbalanced-learn) (1.5.2)\n",
      "Requirement already satisfied: threadpoolctl<4,>=2.0.0 in /opt/anaconda3/envs/dsenv/lib/python3.11/site-packages (from imbalanced-learn) (3.5.0)\n",
      "Using cached imbalanced_learn-0.14.0-py3-none-any.whl (239 kB)\n",
      "Installing collected packages: imbalanced-learn\n",
      "Successfully installed imbalanced-learn-0.14.0\n"
     ]
    }
   ],
   "source": [
    "!pip install imbalanced-learn\n",
    "\n",
    "from imblearn.pipeline import Pipeline as ImbPipeline\n",
    "from imblearn.over_sampling import SMOTE\n",
    "\n",
    "smote_pipeline = ImbPipeline(steps=[\n",
    "    ('preprocessor', preprocessor),\n",
    "    ('smote', SMOTE(random_state=RANDOM_STATE)),\n",
    "    ('clf', RandomForestClassifier(random_state=RANDOM_STATE, n_jobs=-1))\n",
    "])"
   ]
  },
  {
   "cell_type": "markdown",
   "id": "dd29dd93-f312-419c-aa89-d8b78533ee4c",
   "metadata": {},
   "source": [
    "### Training and Evaluating SMOTE-Enhanced Random Forest Model  \n",
    "\n",
    "In this step, the SMOTE-augmented pipeline is trained and evaluated:  \n",
    "\n",
    "- **Fitting**:  \n",
    "  - The pipeline applies preprocessing, generates synthetic minority samples via SMOTE on training data, and fits a Random Forest classifier.  \n",
    "\n",
    "- **Prediction and evaluation**:  \n",
    "  - Predicts churn classes on the test set without synthetic data to simulate real-world performance.  \n",
    "  - Prints a classification report showing precision, recall, f1-score, and support for churn prediction.  \n",
    "\n",
    "This demonstrates the impact of using SMOTE to handle class imbalance and its effect on model predictive capability."
   ]
  },
  {
   "cell_type": "code",
   "execution_count": 23,
   "id": "794f9029-dcac-48af-bfae-8d5f0640208d",
   "metadata": {},
   "outputs": [
    {
     "name": "stdout",
     "output_type": "stream",
     "text": [
      "SMOTE + RF classification report:\n",
      "              precision    recall  f1-score   support\n",
      "\n",
      "           0       0.84      0.85      0.85      1035\n",
      "           1       0.58      0.56      0.57       374\n",
      "\n",
      "    accuracy                           0.77      1409\n",
      "   macro avg       0.71      0.70      0.71      1409\n",
      "weighted avg       0.77      0.77      0.77      1409\n",
      "\n"
     ]
    }
   ],
   "source": [
    "smote_pipeline.fit(X_train, y_train)\n",
    "y_pred_sm = smote_pipeline.predict(X_test)\n",
    "print(\"SMOTE + RF classification report:\")\n",
    "print(classification_report(y_test, y_pred_sm))"
   ]
  },
  {
   "cell_type": "markdown",
   "id": "2c29510b-c8d3-4b01-9de0-c25dd8350f3b",
   "metadata": {},
   "source": [
    "### Saving the Trained Model Pipeline  \n",
    "\n",
    "In the final step, we save the best-trained model pipeline for future use:  \n",
    "\n",
    "- **Creating directory**:  \n",
    "  - Uses `os.makedirs()` with `exist_ok=True` to create a model directory if it doesn't already exist.  \n",
    "\n",
    "- **Saving with joblib**:  \n",
    "  - Dumps the `best_model` pipeline (including preprocessing and classifier) to a file named `churn_pipeline.joblib`.  \n",
    "  - This saved pipeline can later be loaded to make predictions on new data without retraining.  \n",
    "\n",
    "- **Confirmation print**:  \n",
    "  - Confirms the successful saving of the model pipeline and the path where it is stored.  \n",
    "\n",
    "This step enables model deployment and reusability, completing the churn prediction project workflow."
   ]
  },
  {
   "cell_type": "code",
   "execution_count": 24,
   "id": "01e00f5b-3eaf-4360-b346-c91415ba485d",
   "metadata": {},
   "outputs": [
    {
     "name": "stdout",
     "output_type": "stream",
     "text": [
      "Saved pipeline to: ../model/churn_pipeline.joblib\n"
     ]
    }
   ],
   "source": [
    "import joblib\n",
    "os.makedirs(\"../model\", exist_ok=True)\n",
    "MODEL_PATH = \"../model/churn_pipeline.joblib\"\n",
    "joblib.dump(best_model, MODEL_PATH)\n",
    "print(\"Saved pipeline to:\", MODEL_PATH)"
   ]
  },
  {
   "cell_type": "markdown",
   "id": "d9900c57-5b75-4d88-9db5-9640362207ac",
   "metadata": {},
   "source": [
    "### Single Sample Prediction Function  \n",
    "\n",
    "This step defines a reusable function for predicting churn on a single new customer sample:  \n",
    "\n",
    "- **`predict_single(sample_dict, model=best_model)`**:  \n",
    "  - Takes a dictionary with feature names and values matching the model’s expected input.  \n",
    "  - Converts the dictionary to a DataFrame suitable for the pipeline.  \n",
    "  - Uses the trained pipeline to predict both the churn class (`0` or `1`) and the probability of churn.  \n",
    "  - Returns a dictionary containing the predicted class and probability for interpretability.  \n",
    "\n",
    "- **Example sample**:  \n",
    "  - Provides a customer profile dictionary with relevant features such as demographics, service subscriptions, and charges.  \n",
    "  - Demonstrates function usage by printing the churn prediction and confidence score for this example customer.  \n",
    "\n",
    "This function enables practical application of the model for real-time or batch customer churn prediction."
   ]
  },
  {
   "cell_type": "code",
   "execution_count": 25,
   "id": "af626ad4-c611-4a83-ac10-6abaae409a3e",
   "metadata": {},
   "outputs": [
    {
     "name": "stdout",
     "output_type": "stream",
     "text": [
      "{'prediction': 1, 'probability': 0.5995898311289333}\n"
     ]
    }
   ],
   "source": [
    "def predict_single(sample_dict, model=best_model):\n",
    "    # sample_dict: keys must match feature names used in training (columns of X)\n",
    "    sample_df = pd.DataFrame([sample_dict])\n",
    "    proba = model.predict_proba(sample_df)[0,1]\n",
    "    pred = model.predict(sample_df)[0]\n",
    "    return {'prediction': int(pred), 'probability': float(proba)}\n",
    "    \n",
    "sample = {\n",
    "    'gender':'Female', 'SeniorCitizen':0, 'Partner':'Yes', 'Dependents':'No',\n",
    "    'tenure':5, 'PhoneService':'Yes', 'MultipleLines':'No', 'InternetService':'DSL',\n",
    "    'OnlineSecurity':'No', 'OnlineBackup':'Yes', 'DeviceProtection':'No', 'TechSupport':'No',\n",
    "    'StreamingTV':'No', 'StreamingMovies':'No', 'Contract':'Month-to-month', 'PaperlessBilling':'Yes',\n",
    "    'PaymentMethod':'Electronic check', 'MonthlyCharges':70.7, 'TotalCharges':151.65\n",
    "}\n",
    "\n",
    "print(predict_single(sample))"
   ]
  },
  {
   "cell_type": "markdown",
   "id": "dbbfb90a-9874-494f-83e6-1055df82f076",
   "metadata": {},
   "source": [
    "### Saving Feature Schema for Model Input Validation  \n",
    "\n",
    "In this step, we save the list of feature names used in the model as a JSON schema file:  \n",
    "\n",
    "- **Creating schema dictionary**:  \n",
    "  - Stores the feature names (columns of `X`) under the key `'features'`.  \n",
    "\n",
    "- **Writing to JSON file**:  \n",
    "  - Saves the schema to `feature_schema.json` inside the model directory.  \n",
    "  - The file contains a formatted list of expected feature inputs for the model.  \n",
    "\n",
    "- **Confirmation print**:  \n",
    "  - Confirms the schema file’s location, facilitating model input validation and integration in deployment environments.  \n",
    "\n",
    "This schema ensures that new input data matches the features expected by the trained model, preventing input mismatch errors."
   ]
  },
  {
   "cell_type": "code",
   "execution_count": 26,
   "id": "b2357712-1bd0-402f-a84d-8f00644c0f18",
   "metadata": {},
   "outputs": [
    {
     "name": "stdout",
     "output_type": "stream",
     "text": [
      "Feature schema saved at ../model/feature_schema.json\n"
     ]
    }
   ],
   "source": [
    "import json\n",
    "schema = {'features': X.columns.tolist()}\n",
    "with open('../model/feature_schema.json', 'w') as f:\n",
    "    json.dump(schema, f, indent=2)\n",
    "print(\"Feature schema saved at ../model/feature_schema.json\")"
   ]
  },
  {
   "cell_type": "code",
   "execution_count": null,
   "id": "af69e13d-3076-4679-87d1-6b34afe7e0d0",
   "metadata": {},
   "outputs": [],
   "source": []
  }
 ],
 "metadata": {
  "kernelspec": {
   "display_name": "Python 3 (ipykernel)",
   "language": "python",
   "name": "python3"
  },
  "language_info": {
   "codemirror_mode": {
    "name": "ipython",
    "version": 3
   },
   "file_extension": ".py",
   "mimetype": "text/x-python",
   "name": "python",
   "nbconvert_exporter": "python",
   "pygments_lexer": "ipython3",
   "version": "3.11.11"
  }
 },
 "nbformat": 4,
 "nbformat_minor": 5
}

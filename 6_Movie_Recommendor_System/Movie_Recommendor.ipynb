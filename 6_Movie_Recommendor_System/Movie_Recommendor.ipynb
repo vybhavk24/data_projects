{
 "cells": [
  {
   "cell_type": "markdown",
   "id": "113bca17-d5be-478e-bcb4-30beaaba638b",
   "metadata": {},
   "source": [
    "### Importing Libraries  \n",
    "\n",
    "In this step, we import the essential Python libraries required for building our **Movie Recommender System**:  \n",
    "\n",
    "- **os, warnings** → Handle file paths and suppress unnecessary warnings.  \n",
    "- **numpy, pandas** → Data manipulation and analysis.  \n",
    "- **scikit-learn**  \n",
    "  - `TfidfVectorizer` → Converts movie genres/tags into numerical vectors for content-based filtering.  \n",
    "  - `linear_kernel`, `cosine_similarity` → Measure similarity between movies.  \n",
    "  - `MultiLabelBinarizer` → Preprocess multi-genre data into binary format.  \n",
    "  - `train_test_split` → Split data for training and testing collaborative models.  \n",
    "- **matplotlib, seaborn** → Visualization of data distributions and rating patterns.  \n",
    "\n",
    "These libraries form the backbone of our project, handling data processing, feature extraction, similarity computation, and visualization."
   ]
  },
  {
   "cell_type": "code",
   "execution_count": 1,
   "id": "78141976-672a-4cf6-aa06-34fbd734ff4c",
   "metadata": {},
   "outputs": [],
   "source": [
    "import os\n",
    "import warnings\n",
    "warnings.filterwarnings('ignore')\n",
    "\n",
    "import numpy as np\n",
    "import pandas as pd\n",
    "\n",
    "from sklearn.feature_extraction.text import TfidfVectorizer\n",
    "from sklearn.metrics.pairwise import linear_kernel, cosine_similarity\n",
    "from sklearn.preprocessing import MultiLabelBinarizer\n",
    "from sklearn.model_selection import train_test_split\n",
    "\n",
    "import matplotlib.pyplot as plt\n",
    "import seaborn as sns"
   ]
  },
  {
   "cell_type": "markdown",
   "id": "6bc3e3c5-d223-4cfe-b66c-b7b4c1dfe242",
   "metadata": {},
   "source": [
    "### Installing Dependencies  \n",
    "\n",
    "Since we are using the **Surprise library** (`scikit-surprise`) for collaborative filtering (SVD),  \n",
    "we need to install it along with a compatible version of **NumPy**.  \n",
    "\n",
    "> Note: On some systems (especially macOS and since I'm using macOS), `scikit-surprise` requires forcing a reinstall of NumPy for compatibility. \n",
    "\n",
    "The following command ensures the correct setup:  \n",
    "\n",
    "- `numpy==1.24.3` → Stable version compatible with scikit-surprise.  \n",
    "- `scikit-surprise` → Library for building and training collaborative filtering models (SVD, KNN, etc.)."
   ]
  },
  {
   "cell_type": "code",
   "execution_count": 2,
   "id": "71f4b41d-a7ef-4dd6-bc59-8faf1284a9ba",
   "metadata": {},
   "outputs": [
    {
     "name": "stdout",
     "output_type": "stream",
     "text": [
      "Collecting numpy==1.24.3\n",
      "  Using cached numpy-1.24.3-cp311-cp311-macosx_11_0_arm64.whl.metadata (5.6 kB)\n",
      "Collecting scikit-surprise\n",
      "  Using cached scikit_surprise-1.1.4-cp311-cp311-macosx_11_0_arm64.whl\n",
      "Collecting joblib>=1.2.0 (from scikit-surprise)\n",
      "  Using cached joblib-1.5.2-py3-none-any.whl.metadata (5.6 kB)\n",
      "Collecting scipy>=1.6.0 (from scikit-surprise)\n",
      "  Using cached scipy-1.16.1-cp311-cp311-macosx_14_0_arm64.whl.metadata (61 kB)\n",
      "INFO: pip is looking at multiple versions of scipy to determine which version is compatible with other requirements. This could take a while.\n",
      "  Using cached scipy-1.16.0-cp311-cp311-macosx_14_0_arm64.whl.metadata (61 kB)\n",
      "  Using cached scipy-1.15.3-cp311-cp311-macosx_14_0_arm64.whl.metadata (61 kB)\n",
      "Using cached numpy-1.24.3-cp311-cp311-macosx_11_0_arm64.whl (13.8 MB)\n",
      "Using cached joblib-1.5.2-py3-none-any.whl (308 kB)\n",
      "Using cached scipy-1.15.3-cp311-cp311-macosx_14_0_arm64.whl (22.4 MB)\n",
      "Installing collected packages: numpy, joblib, scipy, scikit-surprise\n",
      "\u001b[2K  Attempting uninstall: numpy\n",
      "\u001b[2K    Found existing installation: numpy 1.24.3\n",
      "\u001b[2K    Uninstalling numpy-1.24.3:\n",
      "\u001b[2K      Successfully uninstalled numpy-1.24.3\n",
      "\u001b[2K  Attempting uninstall: joblib━━━━━━━━━━━━━━━━━━\u001b[0m \u001b[32m0/4\u001b[0m [numpy]\n",
      "\u001b[2K    Found existing installation: joblib 1.5.2[0m \u001b[32m0/4\u001b[0m [numpy]\n",
      "\u001b[2K    Uninstalling joblib-1.5.2:0m\u001b[90m━━━━━━━━━━━━━━━━━━━━━━━━━━━━━\u001b[0m \u001b[32m1/4\u001b[0m [joblib]\n",
      "\u001b[2K      Successfully uninstalled joblib-1.5.2━━━━━━━━━━━━━━━━━━━\u001b[0m \u001b[32m1/4\u001b[0m [joblib]\n",
      "\u001b[2K  Attempting uninstall: scipy[90m━━━━━━━━━━━━━━━━━━━━━━━━━━━━━\u001b[0m \u001b[32m1/4\u001b[0m [joblib]\n",
      "\u001b[2K    Found existing installation: scipy 1.15.3━━━━━━━━━━━━━━━━━\u001b[0m \u001b[32m1/4\u001b[0m [joblib]\n",
      "\u001b[2K    Uninstalling scipy-1.15.3:0m\u001b[90m╺\u001b[0m\u001b[90m━━━━━━━━━━━━━━━━━━━\u001b[0m \u001b[32m2/4\u001b[0m [scipy]\n",
      "\u001b[2K      Successfully uninstalled scipy-1.15.3━━━━━━━━━━━━━━━━━━━\u001b[0m \u001b[32m2/4\u001b[0m [scipy]\n",
      "\u001b[2K  Attempting uninstall: scikit-surprise[0m\u001b[90m━━━━━━━━━━━━━━━━━━━\u001b[0m \u001b[32m2/4\u001b[0m [scipy]\n",
      "\u001b[2K    Found existing installation: scikit-surprise 1.1.4━━━━━━━━\u001b[0m \u001b[32m2/4\u001b[0m [scipy]\n",
      "\u001b[2K    Uninstalling scikit-surprise-1.1.4:[90m━━━━━━━━━━━━━━━━━━━\u001b[0m \u001b[32m2/4\u001b[0m [scipy]\n",
      "\u001b[2K      Successfully uninstalled scikit-surprise-1.1.4━━━━━━━━━━\u001b[0m \u001b[32m2/4\u001b[0m [scipy]\n",
      "\u001b[2K   \u001b[90m━━━━━━━━━━━━━━━━━━━━━━━━━━━━━━━━━━━━━━━━\u001b[0m \u001b[32m4/4\u001b[0m [scikit-surprise]ipy]\n",
      "\u001b[1A\u001b[2KSuccessfully installed joblib-1.5.2 numpy-1.24.3 scikit-surprise-1.1.4 scipy-1.15.3\n"
     ]
    }
   ],
   "source": [
    "!pip install --force-reinstall numpy==1.24.3 scikit-surprise"
   ]
  },
  {
   "cell_type": "markdown",
   "id": "73a8331a-71d2-4a33-ab4b-ab4117f14cfa",
   "metadata": {},
   "source": [
    "### Importing Surprise Library Components  \n",
    "\n",
    "Now that we have installed **scikit-surprise**, we import the required classes and functions:  \n",
    "\n",
    "- `Dataset` & `Reader` → To load and parse the ratings dataset into a format that Surprise understands.  \n",
    "- `SVD` → Singular Value Decomposition algorithm (Collaborative Filtering).  \n",
    "- `KNNBasic` → A simple k-Nearest Neighbors based collaborative filtering algorithm.  \n",
    "- `train_test_split` → Function to split data into train and test sets (specific to Surprise).  \n",
    "- `accuracy` → For evaluating model performance (e.g., RMSE, MAE).  \n",
    "- `GridSearchCV` → For hyperparameter tuning of Surprise models.  "
   ]
  },
  {
   "cell_type": "code",
   "execution_count": 3,
   "id": "25e6e95e-f8a5-4fe0-bc7c-700bf5b861cb",
   "metadata": {},
   "outputs": [],
   "source": [
    "from surprise import Dataset, Reader, SVD, KNNBasic\n",
    "from surprise.model_selection import train_test_split as surprise_train_test_split\n",
    "from surprise import accuracy\n",
    "from surprise.model_selection import GridSearchCV"
   ]
  },
  {
   "cell_type": "markdown",
   "id": "bd0ec814-7762-41b5-9c88-37c3925b355e",
   "metadata": {},
   "source": [
    "### Handling Model Persistence  \n",
    "\n",
    "We also import the `pickle` library, which allows us to save and load trained models for later use.  \n",
    "This ensures we don’t need to retrain the recommendation model every time we run the code.    "
   ]
  },
  {
   "cell_type": "code",
   "execution_count": 4,
   "id": "0d1b362a-4c4e-4eec-b02b-a784f0884667",
   "metadata": {},
   "outputs": [],
   "source": [
    "import pickle"
   ]
  },
  {
   "cell_type": "markdown",
   "id": "a564312d-5092-453d-a921-7edd757f9f75",
   "metadata": {},
   "source": [
    "### Defining Dataset Directory  \n",
    "\n",
    "We specify the path to our dataset folder.  \n",
    "All the raw data files (like `movies.csv`, `ratings.csv`, etc.) have been stored inside this **`Dataset`** directory."
   ]
  },
  {
   "cell_type": "code",
   "execution_count": 5,
   "id": "053693d9-94ee-4f64-ae3b-0d6bd6bc1a91",
   "metadata": {},
   "outputs": [],
   "source": [
    "DATA_DIR = 'Dataset'"
   ]
  },
  {
   "cell_type": "markdown",
   "id": "f9b9a16e-cf8f-4f18-8363-900693ae0a32",
   "metadata": {},
   "source": [
    "### Defining File Paths for Dataset Files  \n",
    "\n",
    "We use `os.path.join` to create full paths to the key dataset files stored inside the `Dataset` directory:  \n",
    "\n",
    "- `links.csv` → Contains mapping between movie IDs and external database IDs.  \n",
    "- `movies.csv` → Contains movie titles and associated metadata.  \n",
    "- `ratings.csv` → Contains user ratings for movies.  \n",
    "- `tags.csv` → Contains user-generated tags for movies.  \n",
    "\n",
    "Using `os.path.join` ensures that the file paths are constructed correctly across different operating systems."
   ]
  },
  {
   "cell_type": "code",
   "execution_count": 6,
   "id": "1eecce84-fd46-4d2f-ac82-fd11914f408a",
   "metadata": {},
   "outputs": [],
   "source": [
    "links_path = os.path.join(DATA_DIR, 'links.csv')\n",
    "movies_path = os.path.join(DATA_DIR, 'movies.csv')\n",
    "ratings_path = os.path.join(DATA_DIR, 'ratings.csv')\n",
    "tags_path = os.path.join(DATA_DIR, 'tags.csv')"
   ]
  },
  {
   "cell_type": "markdown",
   "id": "a9cac3d6-12ea-4624-94ce-b3a3da43af93",
   "metadata": {},
   "source": [
    "### Loading Dataset Files into DataFrames  \n",
    "\n",
    "Using `pandas.read_csv()`, we load the CSV files into DataFrame objects for easy data manipulation:  \n",
    "\n",
    "- `movies` → DataFrame containing movie information like titles and genres.  \n",
    "- `ratings` → DataFrame containing user ratings data.  \n",
    "- `links` → DataFrame mapping movie IDs to external databases.  \n",
    "- `tags` → DataFrame containing user-assigned tags for movies.  \n",
    "\n",
    "These DataFrames serve as the foundation for data exploration and model building."
   ]
  },
  {
   "cell_type": "code",
   "execution_count": 7,
   "id": "d2b639a5-087e-4f4c-ae2c-3826e59f3be0",
   "metadata": {},
   "outputs": [],
   "source": [
    "movies = pd.read_csv(movies_path)\n",
    "ratings = pd.read_csv(ratings_path)\n",
    "links = pd.read_csv(links_path)\n",
    "tags = pd.read_csv(tags_path)"
   ]
  },
  {
   "cell_type": "markdown",
   "id": "c35880ff-2c5c-4d34-abda-302b2fb829e5",
   "metadata": {},
   "source": [
    "### Checking Dataset Shapes\n",
    "\n",
    "We print the shapes of each loaded DataFrame to quickly understand the size of our datasets.  \n",
    "\n",
    "- `shape` returns a tuple representing the number of rows and columns in the DataFrame, e.g., `(rows, columns)`.  \n",
    "- This gives us an overview of how much data we are working with in movies, ratings, links, and tags files."
   ]
  },
  {
   "cell_type": "code",
   "execution_count": 8,
   "id": "ba9af52f-c055-4b50-b5e8-82a545e05bbd",
   "metadata": {},
   "outputs": [
    {
     "name": "stdout",
     "output_type": "stream",
     "text": [
      "Files loaded:\n",
      "movies: (9742, 3), ratings: (100836, 4), links: (9742, 3), tags: (3683, 4)\n"
     ]
    }
   ],
   "source": [
    "print('Files loaded:')\n",
    "print(f'movies: {movies.shape}, ratings: {ratings.shape}, links: {links.shape}, tags: {tags.shape}')"
   ]
  },
  {
   "cell_type": "markdown",
   "id": "30e1bbad-1489-4d75-bef6-8446ec1e4667",
   "metadata": {},
   "source": [
    "### Previewing the Movies DataFrame  \n",
    "\n",
    "We use the `head()` method to display the first 5 rows of the `movies` DataFrame.  \n",
    "This gives a quick snapshot of the dataset’s structure and content, including columns like movie IDs, titles, and genres. "
   ]
  },
  {
   "cell_type": "code",
   "execution_count": 9,
   "id": "fae4960b-0932-4053-a72c-b732d010f200",
   "metadata": {},
   "outputs": [
    {
     "data": {
      "text/html": [
       "<div>\n",
       "<style scoped>\n",
       "    .dataframe tbody tr th:only-of-type {\n",
       "        vertical-align: middle;\n",
       "    }\n",
       "\n",
       "    .dataframe tbody tr th {\n",
       "        vertical-align: top;\n",
       "    }\n",
       "\n",
       "    .dataframe thead th {\n",
       "        text-align: right;\n",
       "    }\n",
       "</style>\n",
       "<table border=\"1\" class=\"dataframe\">\n",
       "  <thead>\n",
       "    <tr style=\"text-align: right;\">\n",
       "      <th></th>\n",
       "      <th>movieId</th>\n",
       "      <th>title</th>\n",
       "      <th>genres</th>\n",
       "    </tr>\n",
       "  </thead>\n",
       "  <tbody>\n",
       "    <tr>\n",
       "      <th>0</th>\n",
       "      <td>1</td>\n",
       "      <td>Toy Story (1995)</td>\n",
       "      <td>Adventure|Animation|Children|Comedy|Fantasy</td>\n",
       "    </tr>\n",
       "    <tr>\n",
       "      <th>1</th>\n",
       "      <td>2</td>\n",
       "      <td>Jumanji (1995)</td>\n",
       "      <td>Adventure|Children|Fantasy</td>\n",
       "    </tr>\n",
       "    <tr>\n",
       "      <th>2</th>\n",
       "      <td>3</td>\n",
       "      <td>Grumpier Old Men (1995)</td>\n",
       "      <td>Comedy|Romance</td>\n",
       "    </tr>\n",
       "    <tr>\n",
       "      <th>3</th>\n",
       "      <td>4</td>\n",
       "      <td>Waiting to Exhale (1995)</td>\n",
       "      <td>Comedy|Drama|Romance</td>\n",
       "    </tr>\n",
       "    <tr>\n",
       "      <th>4</th>\n",
       "      <td>5</td>\n",
       "      <td>Father of the Bride Part II (1995)</td>\n",
       "      <td>Comedy</td>\n",
       "    </tr>\n",
       "  </tbody>\n",
       "</table>\n",
       "</div>"
      ],
      "text/plain": [
       "   movieId                               title  \\\n",
       "0        1                    Toy Story (1995)   \n",
       "1        2                      Jumanji (1995)   \n",
       "2        3             Grumpier Old Men (1995)   \n",
       "3        4            Waiting to Exhale (1995)   \n",
       "4        5  Father of the Bride Part II (1995)   \n",
       "\n",
       "                                        genres  \n",
       "0  Adventure|Animation|Children|Comedy|Fantasy  \n",
       "1                   Adventure|Children|Fantasy  \n",
       "2                               Comedy|Romance  \n",
       "3                         Comedy|Drama|Romance  \n",
       "4                                       Comedy  "
      ]
     },
     "execution_count": 9,
     "metadata": {},
     "output_type": "execute_result"
    }
   ],
   "source": [
    "movies.head()"
   ]
  },
  {
   "cell_type": "markdown",
   "id": "3c0c18f0-b201-47f7-98e8-37b66bfb2e36",
   "metadata": {},
   "source": [
    "### Exploring Basic Statistics of Ratings Data  \n",
    "\n",
    "We extract key statistical insights from the `ratings` DataFrame:  \n",
    "\n",
    "- Count of unique users who have rated movies (`userId`).  \n",
    "- Count of unique movies that have been rated (`movieId`).  \n",
    "- The range of ratings given, from minimum to maximum values.  \n",
    "\n",
    "This helps us understand the scale and distribution of ratings data for our recommender system."
   ]
  },
  {
   "cell_type": "code",
   "execution_count": 10,
   "id": "6f8847bd-54bf-4d33-897b-e2047b6ebd30",
   "metadata": {},
   "outputs": [
    {
     "name": "stdout",
     "output_type": "stream",
     "text": [
      "Number of unique users: 610\n",
      "Number of unique movies: 9724\n",
      "Rating range: 0.5 to 5.0\n"
     ]
    }
   ],
   "source": [
    "print('Number of unique users:', ratings['userId'].nunique())\n",
    "print('Number of unique movies:', ratings['movieId'].nunique())\n",
    "print('Rating range:', ratings['rating'].min(), 'to', ratings['rating'].max())"
   ]
  },
  {
   "cell_type": "markdown",
   "id": "b6ab0bd1-2049-4543-a956-2753ee6ea6c0",
   "metadata": {},
   "source": [
    "### Visualizing Rating Distribution  \n",
    "\n",
    "Here, we create a histogram to visualize how movie ratings are distributed in the dataset.  \n",
    "\n",
    "- The plot shows the frequency of each rating value.  \n",
    "- Understanding this distribution helps identify common rating patterns and any potential bias in ratings.  \n",
    "- `seaborn.histplot` is used for concise and visually appealing plotting."
   ]
  },
  {
   "cell_type": "code",
   "execution_count": 13,
   "id": "fe17f235-2929-4e3e-99cd-e216cf834a15",
   "metadata": {},
   "outputs": [
    {
     "data": {
      "image/png": "[encoded data removed]",
      "text/plain": [
       "<Figure size 800x400 with 1 Axes>"
      ]
     },
     "metadata": {},
     "output_type": "display_data"
    }
   ],
   "source": [
    "plt.figure(figsize=(8,4))\n",
    "sns.histplot(ratings['rating'], bins=20, kde=False)\n",
    "plt.title('Rating Distribution')\n",
    "plt.show()"
   ]
  },
  {
   "cell_type": "markdown",
   "id": "b7c96a29-4e9f-4aaa-9982-4ca2f49ed12b",
   "metadata": {},
   "source": [
    "### Analyzing Ratings Distribution per User and per Movie  \n",
    "\n",
    "We use `groupby()` combined with `size()` to count the number of ratings given by each user and received by each movie.  \n",
    "\n",
    "Then, we apply `describe()` to get summary statistics (count, mean, std, min, max, and percentiles) for these distributions:  \n",
    "\n",
    "- `ratings_per_user` → Summary of how many ratings each user has made.  \n",
    "- `ratings_per_movie` → Summary of how many ratings each movie has received.  \n",
    "\n",
    "This provides insights into user engagement and movie popularity in the dataset."
   ]
  },
  {
   "cell_type": "code",
   "execution_count": 14,
   "id": "f6f9b719-3b02-45e0-bb10-908e457cdbe4",
   "metadata": {},
   "outputs": [
    {
     "name": "stdout",
     "output_type": "stream",
     "text": [
      "\n",
      "Ratings per user (summary):\n",
      "count     610.000000\n",
      "mean      165.304918\n",
      "std       269.480584\n",
      "min        20.000000\n",
      "25%        35.000000\n",
      "50%        70.500000\n",
      "75%       168.000000\n",
      "max      2698.000000\n",
      "dtype: float64\n",
      "\n",
      "Ratings per movie (summary):\n",
      "count    9724.000000\n",
      "mean       10.369807\n",
      "std        22.401005\n",
      "min         1.000000\n",
      "25%         1.000000\n",
      "50%         3.000000\n",
      "75%         9.000000\n",
      "max       329.000000\n",
      "dtype: float64\n"
     ]
    }
   ],
   "source": [
    "ratings_per_user = ratings.groupby('userId').size().describe()\n",
    "ratings_per_movie = ratings.groupby('movieId').size().describe()\n",
    "print('\\nRatings per user (summary):')\n",
    "print(ratings_per_user)\n",
    "print('\\nRatings per movie (summary):')\n",
    "print(ratings_per_movie)"
   ]
  },
  {
   "cell_type": "markdown",
   "id": "9a424386-5334-43a3-9f85-f056b28cf427",
   "metadata": {},
   "source": [
    "### Extracting Year, Cleaning Titles, and Parsing Genres  \n",
    "\n",
    "We preprocess the `movies` DataFrame by:  \n",
    "\n",
    "- Extracting the release year from the movie `title` using a regex that searches for a 4-digit year within parentheses.  \n",
    "- Creating a new `year` column with the extracted year as an integer (or `None` if not found).  \n",
    "- Removing the year from the `title` to create a `clean_title` column for clearer display.  \n",
    "- Splitting the `genres` string into a list of genres in a new column `genres_list` for easier feature extraction in our recommender system."
   ]
  },
  {
   "cell_type": "code",
   "execution_count": 15,
   "id": "adbe2116-6ba9-454e-abde-d804d49759a0",
   "metadata": {},
   "outputs": [],
   "source": [
    "import re\n",
    "\n",
    "def extract_year(title):\n",
    "    m = re.search(r\"\\((\\d{4})\\)\", title)\n",
    "    return int(m.group(1)) if m else None\n",
    "\n",
    "movies['year'] = movies['title'].apply(extract_year)\n",
    "movies['clean_title'] = movies['title'].str.replace(r\"\\s*\\(\\d{4}\\)\", '', regex=True)\n",
    "movies['genres_list'] = movies['genres'].apply(lambda x: x.split('|') if isinstance(x, str) else [])"
   ]
  },
  {
   "cell_type": "markdown",
   "id": "c769fd17-27d1-44ea-8e80-271e071f281d",
   "metadata": {},
   "source": [
    "### Previewing Updated Movies DataFrame  \n",
    "\n",
    "Using the `head()` method, we display the first 5 rows of the updated `movies` DataFrame to verify the new columns:  \n",
    "\n",
    "- `year` extracted from the original title.  \n",
    "- `clean_title` with the year removed for clarity.  \n",
    "- `genres_list` containing genres as a list instead of a string.  \n",
    "\n",
    "This helps confirm our preprocessing steps were applied correctly."
   ]
  },
  {
   "cell_type": "code",
   "execution_count": 16,
   "id": "c72cf5a4-a64d-4e8e-b574-107002e792e7",
   "metadata": {},
   "outputs": [
    {
     "data": {
      "text/html": [
       "<div>\n",
       "<style scoped>\n",
       "    .dataframe tbody tr th:only-of-type {\n",
       "        vertical-align: middle;\n",
       "    }\n",
       "\n",
       "    .dataframe tbody tr th {\n",
       "        vertical-align: top;\n",
       "    }\n",
       "\n",
       "    .dataframe thead th {\n",
       "        text-align: right;\n",
       "    }\n",
       "</style>\n",
       "<table border=\"1\" class=\"dataframe\">\n",
       "  <thead>\n",
       "    <tr style=\"text-align: right;\">\n",
       "      <th></th>\n",
       "      <th>movieId</th>\n",
       "      <th>title</th>\n",
       "      <th>genres</th>\n",
       "      <th>year</th>\n",
       "      <th>clean_title</th>\n",
       "      <th>genres_list</th>\n",
       "    </tr>\n",
       "  </thead>\n",
       "  <tbody>\n",
       "    <tr>\n",
       "      <th>0</th>\n",
       "      <td>1</td>\n",
       "      <td>Toy Story (1995)</td>\n",
       "      <td>Adventure|Animation|Children|Comedy|Fantasy</td>\n",
       "      <td>1995.0</td>\n",
       "      <td>Toy Story</td>\n",
       "      <td>[Adventure, Animation, Children, Comedy, Fantasy]</td>\n",
       "    </tr>\n",
       "    <tr>\n",
       "      <th>1</th>\n",
       "      <td>2</td>\n",
       "      <td>Jumanji (1995)</td>\n",
       "      <td>Adventure|Children|Fantasy</td>\n",
       "      <td>1995.0</td>\n",
       "      <td>Jumanji</td>\n",
       "      <td>[Adventure, Children, Fantasy]</td>\n",
       "    </tr>\n",
       "    <tr>\n",
       "      <th>2</th>\n",
       "      <td>3</td>\n",
       "      <td>Grumpier Old Men (1995)</td>\n",
       "      <td>Comedy|Romance</td>\n",
       "      <td>1995.0</td>\n",
       "      <td>Grumpier Old Men</td>\n",
       "      <td>[Comedy, Romance]</td>\n",
       "    </tr>\n",
       "    <tr>\n",
       "      <th>3</th>\n",
       "      <td>4</td>\n",
       "      <td>Waiting to Exhale (1995)</td>\n",
       "      <td>Comedy|Drama|Romance</td>\n",
       "      <td>1995.0</td>\n",
       "      <td>Waiting to Exhale</td>\n",
       "      <td>[Comedy, Drama, Romance]</td>\n",
       "    </tr>\n",
       "    <tr>\n",
       "      <th>4</th>\n",
       "      <td>5</td>\n",
       "      <td>Father of the Bride Part II (1995)</td>\n",
       "      <td>Comedy</td>\n",
       "      <td>1995.0</td>\n",
       "      <td>Father of the Bride Part II</td>\n",
       "      <td>[Comedy]</td>\n",
       "    </tr>\n",
       "  </tbody>\n",
       "</table>\n",
       "</div>"
      ],
      "text/plain": [
       "   movieId                               title  \\\n",
       "0        1                    Toy Story (1995)   \n",
       "1        2                      Jumanji (1995)   \n",
       "2        3             Grumpier Old Men (1995)   \n",
       "3        4            Waiting to Exhale (1995)   \n",
       "4        5  Father of the Bride Part II (1995)   \n",
       "\n",
       "                                        genres    year  \\\n",
       "0  Adventure|Animation|Children|Comedy|Fantasy  1995.0   \n",
       "1                   Adventure|Children|Fantasy  1995.0   \n",
       "2                               Comedy|Romance  1995.0   \n",
       "3                         Comedy|Drama|Romance  1995.0   \n",
       "4                                       Comedy  1995.0   \n",
       "\n",
       "                   clean_title  \\\n",
       "0                    Toy Story   \n",
       "1                      Jumanji   \n",
       "2             Grumpier Old Men   \n",
       "3            Waiting to Exhale   \n",
       "4  Father of the Bride Part II   \n",
       "\n",
       "                                         genres_list  \n",
       "0  [Adventure, Animation, Children, Comedy, Fantasy]  \n",
       "1                     [Adventure, Children, Fantasy]  \n",
       "2                                  [Comedy, Romance]  \n",
       "3                           [Comedy, Drama, Romance]  \n",
       "4                                           [Comedy]  "
      ]
     },
     "execution_count": 16,
     "metadata": {},
     "output_type": "execute_result"
    }
   ],
   "source": [
    "movies.head()"
   ]
  },
  {
   "cell_type": "markdown",
   "id": "1f9717a4-39a8-449e-bb93-c66c91b49194",
   "metadata": {},
   "source": [
    "### Aggregating Tags and Creating Content Feature  \n",
    "\n",
    "- We preprocess the `tags` column by converting all tags to lowercase and replacing spaces with underscores for uniformity.  \n",
    "- Using groupby on `movieId`, we aggregate all tags for a movie into a single space-separated string `tags_agg`.  \n",
    "- We merge the aggregated tags back into the `movies` DataFrame to enrich movie metadata. Missing tags are filled with empty strings.  \n",
    "- Finally, we create a new `content` column by combining `clean_title`, genres (with pipe replaced by space), and aggregated tags.  \n",
    "This combined content will be used as input features for content-based movie recommendation."
   ]
  },
  {
   "cell_type": "code",
   "execution_count": 17,
   "id": "f4d01658-aa08-48d1-b69d-e756485052cc",
   "metadata": {},
   "outputs": [],
   "source": [
    "tags['tag'] = tags['tag'].astype(str).str.lower().str.replace(' ', '_')\n",
    "\n",
    "movie_tags = tags.groupby('movieId')['tag'].apply(lambda x: ' '.join(x)).reset_index()\n",
    "movie_tags.columns = ['movieId', 'tags_agg']\n",
    "\n",
    "movies = movies.merge(movie_tags, on='movieId', how='left')\n",
    "movies['tags_agg'] = movies['tags_agg'].fillna('')\n",
    "\n",
    "# Creating a content column (title + genres + tags)\n",
    "movies['content'] = movies['clean_title'] + ' ' + movies['genres'].str.replace('|', ' ') + ' ' + movies['tags_agg']"
   ]
  },
  {
   "cell_type": "markdown",
   "id": "2cf5fdd2-5f59-40b1-8f46-be85a31550e3",
   "metadata": {},
   "source": [
    "### Previewing Final Movie Metadata  \n",
    "\n",
    "We use `head()` to view the first 5 rows of the `movies` DataFrame showing key columns:  \n",
    "\n",
    "- `movieId`, `title`, `year` for identification and timeline.  \n",
    "- `genres` and `tags_agg` for categorical information and user tags.  \n",
    "- `content` column combining title, genres, and tags for content-based analysis.  \n",
    "\n",
    "This helps confirm all features are correctly assembled and ready for modeling."
   ]
  },
  {
   "cell_type": "code",
   "execution_count": 18,
   "id": "3ff8fd99-6b2a-466f-8e15-c77761ab1ae7",
   "metadata": {},
   "outputs": [
    {
     "data": {
      "text/html": [
       "<div>\n",
       "<style scoped>\n",
       "    .dataframe tbody tr th:only-of-type {\n",
       "        vertical-align: middle;\n",
       "    }\n",
       "\n",
       "    .dataframe tbody tr th {\n",
       "        vertical-align: top;\n",
       "    }\n",
       "\n",
       "    .dataframe thead th {\n",
       "        text-align: right;\n",
       "    }\n",
       "</style>\n",
       "<table border=\"1\" class=\"dataframe\">\n",
       "  <thead>\n",
       "    <tr style=\"text-align: right;\">\n",
       "      <th></th>\n",
       "      <th>movieId</th>\n",
       "      <th>title</th>\n",
       "      <th>year</th>\n",
       "      <th>genres</th>\n",
       "      <th>tags_agg</th>\n",
       "      <th>content</th>\n",
       "    </tr>\n",
       "  </thead>\n",
       "  <tbody>\n",
       "    <tr>\n",
       "      <th>0</th>\n",
       "      <td>1</td>\n",
       "      <td>Toy Story (1995)</td>\n",
       "      <td>1995.0</td>\n",
       "      <td>Adventure|Animation|Children|Comedy|Fantasy</td>\n",
       "      <td>pixar pixar fun</td>\n",
       "      <td>Toy Story Adventure Animation Children Comedy ...</td>\n",
       "    </tr>\n",
       "    <tr>\n",
       "      <th>1</th>\n",
       "      <td>2</td>\n",
       "      <td>Jumanji (1995)</td>\n",
       "      <td>1995.0</td>\n",
       "      <td>Adventure|Children|Fantasy</td>\n",
       "      <td>fantasy magic_board_game robin_williams game</td>\n",
       "      <td>Jumanji Adventure Children Fantasy fantasy mag...</td>\n",
       "    </tr>\n",
       "    <tr>\n",
       "      <th>2</th>\n",
       "      <td>3</td>\n",
       "      <td>Grumpier Old Men (1995)</td>\n",
       "      <td>1995.0</td>\n",
       "      <td>Comedy|Romance</td>\n",
       "      <td>moldy old</td>\n",
       "      <td>Grumpier Old Men Comedy Romance moldy old</td>\n",
       "    </tr>\n",
       "    <tr>\n",
       "      <th>3</th>\n",
       "      <td>4</td>\n",
       "      <td>Waiting to Exhale (1995)</td>\n",
       "      <td>1995.0</td>\n",
       "      <td>Comedy|Drama|Romance</td>\n",
       "      <td></td>\n",
       "      <td>Waiting to Exhale Comedy Drama Romance</td>\n",
       "    </tr>\n",
       "    <tr>\n",
       "      <th>4</th>\n",
       "      <td>5</td>\n",
       "      <td>Father of the Bride Part II (1995)</td>\n",
       "      <td>1995.0</td>\n",
       "      <td>Comedy</td>\n",
       "      <td>pregnancy remake</td>\n",
       "      <td>Father of the Bride Part II Comedy pregnancy r...</td>\n",
       "    </tr>\n",
       "  </tbody>\n",
       "</table>\n",
       "</div>"
      ],
      "text/plain": [
       "   movieId                               title    year  \\\n",
       "0        1                    Toy Story (1995)  1995.0   \n",
       "1        2                      Jumanji (1995)  1995.0   \n",
       "2        3             Grumpier Old Men (1995)  1995.0   \n",
       "3        4            Waiting to Exhale (1995)  1995.0   \n",
       "4        5  Father of the Bride Part II (1995)  1995.0   \n",
       "\n",
       "                                        genres  \\\n",
       "0  Adventure|Animation|Children|Comedy|Fantasy   \n",
       "1                   Adventure|Children|Fantasy   \n",
       "2                               Comedy|Romance   \n",
       "3                         Comedy|Drama|Romance   \n",
       "4                                       Comedy   \n",
       "\n",
       "                                       tags_agg  \\\n",
       "0                               pixar pixar fun   \n",
       "1  fantasy magic_board_game robin_williams game   \n",
       "2                                     moldy old   \n",
       "3                                                 \n",
       "4                              pregnancy remake   \n",
       "\n",
       "                                             content  \n",
       "0  Toy Story Adventure Animation Children Comedy ...  \n",
       "1  Jumanji Adventure Children Fantasy fantasy mag...  \n",
       "2          Grumpier Old Men Comedy Romance moldy old  \n",
       "3            Waiting to Exhale Comedy Drama Romance   \n",
       "4  Father of the Bride Part II Comedy pregnancy r...  "
      ]
     },
     "execution_count": 18,
     "metadata": {},
     "output_type": "execute_result"
    }
   ],
   "source": [
    "movies[['movieId','title','year','genres','tags_agg','content']].head()"
   ]
  },
  {
   "cell_type": "markdown",
   "id": "bf2b208b-fed3-4a5b-b0da-b8997cfaaf23",
   "metadata": {},
   "source": [
    "### Creating TF-IDF Matrix for Movie Content  \n",
    "\n",
    "We use `TfidfVectorizer` from scikit-learn to convert the combined movie `content` (title, genres, tags) into a numerical matrix representation.  \n",
    "\n",
    "- `stop_words='english'` removes common English words that don't add meaning.  \n",
    "- `max_features=5000` limits the vocabulary size for efficiency.  \n",
    "- The `fit_transform` method learns the vocabulary and calculates the TF-IDF scores for each movie’s content.  \n",
    "\n",
    "This matrix will be used to calculate similarities between movies for content-based recommendations."
   ]
  },
  {
   "cell_type": "code",
   "execution_count": 19,
   "id": "140db6fd-b52f-44f7-a7f2-9acafe78f073",
   "metadata": {},
   "outputs": [],
   "source": [
    "tfidf = TfidfVectorizer(stop_words='english', max_features=5000)\n",
    "content_matrix = tfidf.fit_transform(movies['content'])"
   ]
  },
  {
   "cell_type": "markdown",
   "id": "f4a2a703-061b-43a7-91f7-dd29311ef15c",
   "metadata": {},
   "source": [
    "### Computing Cosine Similarity Matrix  \n",
    "\n",
    "We calculate the cosine similarity between movies based on their TF-IDF content vectors using `linear_kernel`.  \n",
    "\n",
    "- `linear_kernel(content_matrix, content_matrix)` computes the dot product between all pairs of movie vectors.  \n",
    "- Since TF-IDF vectors are L2-normalized, this linear kernel is equivalent to cosine similarity.  \n",
    "- The resulting matrix (`cos_sim`) represents pairwise similarity scores between movies, crucial for making content-based recommendations."
   ]
  },
  {
   "cell_type": "code",
   "execution_count": 20,
   "id": "5a3da0b1-7c45-4191-a0d0-480a4e06c8e3",
   "metadata": {},
   "outputs": [],
   "source": [
    "cos_sim = linear_kernel(content_matrix, content_matrix)"
   ]
  },
  {
   "cell_type": "markdown",
   "id": "ecfc146f-0761-4cf6-a386-39ed81649893",
   "metadata": {},
   "source": [
    "### Creating Series for Movie Title Indexing  \n",
    "\n",
    "We create a Pandas Series named `indices` that maps movie titles to their corresponding row indices in the `movies` DataFrame.  \n",
    "\n",
    "- This allows quick lookup of a movie’s index by its title, which is useful for recommendation queries.  \n",
    "- The `drop_duplicates()` method ensures that if there are duplicate titles, only the first occurrence is kept, preventing indexing conflicts."
   ]
  },
  {
   "cell_type": "code",
   "execution_count": 21,
   "id": "5122b3ce-56b8-4c12-a506-72ebafadbb96",
   "metadata": {},
   "outputs": [],
   "source": [
    "indices = pd.Series(movies.index, index=movies['title']).drop_duplicates()"
   ]
  },
  {
   "cell_type": "markdown",
   "id": "9e46ea27-09b8-4d5b-89ac-5cdc5198fea8",
   "metadata": {},
   "source": [
    "### Content-Based Recommendation Function  \n",
    "\n",
    "This function, `content_recommendations`, takes a movie title as input and returns the top N most similar movies based on content similarity:  \n",
    "\n",
    "- It looks up the movie's index using the `indices` Series.  \n",
    "- Retrieves similarity scores from the precomputed `cos_sim` matrix for that movie.  \n",
    "- Sorts movies by similarity score in descending order, excluding the input movie itself.  \n",
    "- Returns a DataFrame of the most similar movies with their `movieId`, `title`, and `genres`.  \n",
    "\n",
    "This function enables quick and effective content-based movie recommendations."
   ]
  },
  {
   "cell_type": "code",
   "execution_count": 22,
   "id": "2fde1fd2-04ad-459a-868e-01f4e735078e",
   "metadata": {},
   "outputs": [],
   "source": [
    "def content_recommendations(title, topn=10):\n",
    "    if title not in indices:\n",
    "        print('Title not found in dataset. Try an exact title from movies.title')\n",
    "        return []\n",
    "    idx = indices[title]\n",
    "    sim_scores = list(enumerate(cos_sim[idx]))\n",
    "    sim_scores = sorted(sim_scores, key=lambda x: x[1], reverse=True)\n",
    "    sim_scores = sim_scores[1:topn+1]\n",
    "    movie_indices = [i[0] for i in sim_scores]\n",
    "    return movies.iloc[movie_indices][['movieId','title','genres']]"
   ]
  },
  {
   "cell_type": "markdown",
   "id": "4d94de13-8913-4dfe-9eaa-26c3fee83bb8",
   "metadata": {},
   "source": [
    "### Testing Content-Based Recommendations  \n",
    "\n",
    "We test the recommendation function by requesting similar movies to *Toy Story (1995)*.  \n",
    "\n",
    "This demonstrates the model’s ability to find movies with similar titles, genres, and user tags based on content similarity."
   ]
  },
  {
   "cell_type": "code",
   "execution_count": 23,
   "id": "89003673-ec03-404e-b794-165186dff129",
   "metadata": {},
   "outputs": [
    {
     "name": "stdout",
     "output_type": "stream",
     "text": [
      "Recommendations for Toy Story (1995):\n"
     ]
    },
    {
     "data": {
      "text/html": [
       "<div>\n",
       "<style scoped>\n",
       "    .dataframe tbody tr th:only-of-type {\n",
       "        vertical-align: middle;\n",
       "    }\n",
       "\n",
       "    .dataframe tbody tr th {\n",
       "        vertical-align: top;\n",
       "    }\n",
       "\n",
       "    .dataframe thead th {\n",
       "        text-align: right;\n",
       "    }\n",
       "</style>\n",
       "<table border=\"1\" class=\"dataframe\">\n",
       "  <thead>\n",
       "    <tr style=\"text-align: right;\">\n",
       "      <th></th>\n",
       "      <th>movieId</th>\n",
       "      <th>title</th>\n",
       "      <th>genres</th>\n",
       "    </tr>\n",
       "  </thead>\n",
       "  <tbody>\n",
       "    <tr>\n",
       "      <th>2355</th>\n",
       "      <td>3114</td>\n",
       "      <td>Toy Story 2 (1999)</td>\n",
       "      <td>Adventure|Animation|Children|Comedy|Fantasy</td>\n",
       "    </tr>\n",
       "    <tr>\n",
       "      <th>1757</th>\n",
       "      <td>2355</td>\n",
       "      <td>Bug's Life, A (1998)</td>\n",
       "      <td>Adventure|Animation|Children|Comedy</td>\n",
       "    </tr>\n",
       "    <tr>\n",
       "      <th>7355</th>\n",
       "      <td>78499</td>\n",
       "      <td>Toy Story 3 (2010)</td>\n",
       "      <td>Adventure|Animation|Children|Comedy|Fantasy|IMAX</td>\n",
       "    </tr>\n",
       "    <tr>\n",
       "      <th>3595</th>\n",
       "      <td>4929</td>\n",
       "      <td>Toy, The (1982)</td>\n",
       "      <td>Comedy</td>\n",
       "    </tr>\n",
       "    <tr>\n",
       "      <th>7039</th>\n",
       "      <td>68954</td>\n",
       "      <td>Up (2009)</td>\n",
       "      <td>Adventure|Animation|Children|Drama</td>\n",
       "    </tr>\n",
       "    <tr>\n",
       "      <th>3733</th>\n",
       "      <td>5178</td>\n",
       "      <td>Fun (1994)</td>\n",
       "      <td>Crime|Drama</td>\n",
       "    </tr>\n",
       "    <tr>\n",
       "      <th>1706</th>\n",
       "      <td>2294</td>\n",
       "      <td>Antz (1998)</td>\n",
       "      <td>Adventure|Animation|Children|Comedy|Fantasy</td>\n",
       "    </tr>\n",
       "    <tr>\n",
       "      <th>9430</th>\n",
       "      <td>166461</td>\n",
       "      <td>Moana (2016)</td>\n",
       "      <td>Adventure|Animation|Children|Comedy|Fantasy</td>\n",
       "    </tr>\n",
       "    <tr>\n",
       "      <th>2539</th>\n",
       "      <td>3400</td>\n",
       "      <td>We're Back! A Dinosaur's Story (1993)</td>\n",
       "      <td>Adventure|Animation|Children|Fantasy</td>\n",
       "    </tr>\n",
       "    <tr>\n",
       "      <th>6205</th>\n",
       "      <td>45431</td>\n",
       "      <td>Over the Hedge (2006)</td>\n",
       "      <td>Adventure|Animation|Children|Comedy</td>\n",
       "    </tr>\n",
       "  </tbody>\n",
       "</table>\n",
       "</div>"
      ],
      "text/plain": [
       "      movieId                                  title  \\\n",
       "2355     3114                     Toy Story 2 (1999)   \n",
       "1757     2355                   Bug's Life, A (1998)   \n",
       "7355    78499                     Toy Story 3 (2010)   \n",
       "3595     4929                        Toy, The (1982)   \n",
       "7039    68954                              Up (2009)   \n",
       "3733     5178                             Fun (1994)   \n",
       "1706     2294                            Antz (1998)   \n",
       "9430   166461                           Moana (2016)   \n",
       "2539     3400  We're Back! A Dinosaur's Story (1993)   \n",
       "6205    45431                  Over the Hedge (2006)   \n",
       "\n",
       "                                                genres  \n",
       "2355       Adventure|Animation|Children|Comedy|Fantasy  \n",
       "1757               Adventure|Animation|Children|Comedy  \n",
       "7355  Adventure|Animation|Children|Comedy|Fantasy|IMAX  \n",
       "3595                                            Comedy  \n",
       "7039                Adventure|Animation|Children|Drama  \n",
       "3733                                       Crime|Drama  \n",
       "1706       Adventure|Animation|Children|Comedy|Fantasy  \n",
       "9430       Adventure|Animation|Children|Comedy|Fantasy  \n",
       "2539              Adventure|Animation|Children|Fantasy  \n",
       "6205               Adventure|Animation|Children|Comedy  "
      ]
     },
     "execution_count": 23,
     "metadata": {},
     "output_type": "execute_result"
    }
   ],
   "source": [
    "print('Recommendations for Toy Story (1995):')\n",
    "content_recommendations('Toy Story (1995)', topn=10)"
   ]
  },
  {
   "cell_type": "markdown",
   "id": "c7f3246a-d271-40fc-be4e-63ad32da1ef3",
   "metadata": {},
   "source": [
    "### Loading Ratings Data into Surprise Dataset  \n",
    "\n",
    "- We define a `Reader` object specifying the rating scale using the minimum and maximum ratings from our `ratings` DataFrame.  \n",
    "- Using `Dataset.load_from_df`, we load the user-movie-rating triplets into a Surprise dataset format.  \n",
    "\n",
    "This prepares the data for building collaborative filtering models with the Surprise library."
   ]
  },
  {
   "cell_type": "code",
   "execution_count": 24,
   "id": "5e6bf6d6-0136-4526-8639-9972019e8c8c",
   "metadata": {},
   "outputs": [],
   "source": [
    "reader = Reader(rating_scale=(ratings['rating'].min(), ratings['rating'].max()))\n",
    "\n",
    "data = Dataset.load_from_df(ratings[['userId','movieId','rating']], reader)"
   ]
  },
  {
   "cell_type": "markdown",
   "id": "99c3915f-11fc-45b4-b62c-157f2dc32341",
   "metadata": {},
   "source": [
    "### Splitting Dataset into Training and Testing Sets  \n",
    "\n",
    "We split the Surprise `data` into training and testing sets using `surprise_train_test_split`:  \n",
    "\n",
    "- `test_size=0.2` means 20% of ratings are reserved for testing, 80% for training.  \n",
    "- `random_state=42` ensures reproducibility of the random split.  \n",
    "\n",
    "This separation allows unbiased evaluation of collaborative filtering models on unseen data."
   ]
  },
  {
   "cell_type": "code",
   "execution_count": 25,
   "id": "c1cebc9c-804a-44e2-90a4-e533ffe115cd",
   "metadata": {},
   "outputs": [],
   "source": [
    "trainset, testset = surprise_train_test_split(data, test_size=0.2, random_state=42)"
   ]
  },
  {
   "cell_type": "markdown",
   "id": "0e3893f2-86f7-4596-98bd-9e55c2094ba7",
   "metadata": {},
   "source": [
    "### Training the SVD Collaborative Filtering Model  \n",
    "\n",
    "We instantiate the `SVD` algorithm from Surprise with:  \n",
    "- `n_factors=50` latent factors to represent users and items.  \n",
    "- `n_epochs=20` iterations for stochastic gradient descent optimization.  \n",
    "- `random_state=42` for reproducibility.  \n",
    "\n",
    "Then, we fit the model on the training set using `svd.fit(trainset)`.  \n",
    "This trains the matrix factorization model to learn underlying patterns in user ratings for personalized recommendations."
   ]
  },
  {
   "cell_type": "code",
   "execution_count": 26,
   "id": "7678cb6c-4961-4cc0-937e-ccea5edcb2ac",
   "metadata": {},
   "outputs": [
    {
     "data": {
      "text/plain": [
       "<surprise.prediction_algorithms.matrix_factorization.SVD at 0x16cbb4650>"
      ]
     },
     "execution_count": 26,
     "metadata": {},
     "output_type": "execute_result"
    }
   ],
   "source": [
    "svd = SVD(n_factors=50, n_epochs=20, random_state=42)\n",
    "svd.fit(trainset)"
   ]
  },
  {
   "cell_type": "markdown",
   "id": "d74a4830-7d3b-4058-856c-be96e17eb6a7",
   "metadata": {},
   "source": [
    "### Evaluating the SVD Model Performance  \n",
    "\n",
    "- We use the trained `svd` model to predict ratings on the test set with `svd.test(testset)`.  \n",
    "- Using Surprise's `accuracy` module, we calculate:  \n",
    "  - RMSE (Root Mean Squared Error) to measure the average magnitude of prediction errors, penalizing larger errors more.  \n",
    "  - MAE (Mean Absolute Error) to measure the average absolute difference between predicted and true ratings.  \n",
    "- Printing these metrics provides an indication of how well the model predicts user ratings on unseen data."
   ]
  },
  {
   "cell_type": "code",
   "execution_count": 27,
   "id": "cb8c76f9-a1c3-4f96-9c4c-77ea4cb3c26f",
   "metadata": {},
   "outputs": [
    {
     "name": "stdout",
     "output_type": "stream",
     "text": [
      "RMSE: 0.8775\n",
      "MAE:  0.6742\n",
      "SVD RMSE: 0.8774680781839199, MAE: 0.6741748366526163\n"
     ]
    }
   ],
   "source": [
    "predictions = svd.test(testset)\n",
    "rmse_svd = accuracy.rmse(predictions)\n",
    "mae_svd = accuracy.mae(predictions)\n",
    "print(f'SVD RMSE: {rmse_svd}, MAE: {mae_svd}')"
   ]
  },
  {
   "cell_type": "markdown",
   "id": "b0c3bb6c-2a6a-4740-8535-8fbc8f7759f0",
   "metadata": {},
   "source": [
    "### SVD Model Performance Results  \n",
    "\n",
    "- Our SVD collaborative filtering model achieves an RMSE of approximately **0.8775** and an MAE of **0.6742** on the test set.  \n",
    "- These metrics indicate relatively accurate predictions with reasonable error margins for user ratings.\n",
    "\n",
    "### Training and Evaluating KNN Item-Based Model  \n",
    "\n",
    "- We configure a K-Nearest Neighbors (KNN) model with cosine similarity, set for item-based collaborative filtering (`user_based=False`).  \n",
    "- The model is trained on the training set and evaluated on the test set.  \n",
    "- The KNN item-based model achieves an RMSE of about **0.98** and MAE of **0.76**, slightly less accurate than the SVD model.  \n",
    "\n",
    "This comparison shows the advantage of matrix factorization (SVD) over simpler neighborhood-based methods in this context."
   ]
  },
  {
   "cell_type": "code",
   "execution_count": 28,
   "id": "54ea5542-2209-483d-8391-94a4de601f4a",
   "metadata": {},
   "outputs": [
    {
     "name": "stdout",
     "output_type": "stream",
     "text": [
      "Computing the cosine similarity matrix...\n",
      "Done computing similarity matrix.\n",
      "RMSE: 0.9800\n",
      "MAE:  0.7615\n",
      "KNN Item RMSE: 0.97995665962038, MAE: 0.7614697475628528\n"
     ]
    }
   ],
   "source": [
    "sim_options = {'name': 'cosine', 'user_based': False}\n",
    "knn_item = KNNBasic(sim_options=sim_options)\n",
    "knn_item.fit(trainset)\n",
    "predictions_knn = knn_item.test(testset)\n",
    "rmse_knn = accuracy.rmse(predictions_knn)\n",
    "mae_knn = accuracy.mae(predictions_knn)\n",
    "print(f'KNN Item RMSE: {rmse_knn}, MAE: {mae_knn}')"
   ]
  },
  {
   "cell_type": "markdown",
   "id": "20576aea-daab-457d-b216-6dc7dedf5eb5",
   "metadata": {},
   "source": [
    "### Extracting Top-N Recommendations for Each User  \n",
    "\n",
    "This utility function `get_top_n` processes a list of predictions and returns the top N recommended items for each user:  \n",
    "\n",
    "- It groups predictions by user ID into a dictionary with user IDs as keys.  \n",
    "- For each user, it sorts the predicted item ratings in descending order.  \n",
    "- Keeps only the top N highest scored items for each user.  \n",
    "\n",
    "This method is useful for generating personalized recommendation lists from collaborative filtering model predictions."
   ]
  },
  {
   "cell_type": "code",
   "execution_count": 29,
   "id": "6c52c8ec-8e04-43fd-9b3e-e45d6a2f7686",
   "metadata": {},
   "outputs": [],
   "source": [
    "from collections import defaultdict\n",
    "\n",
    "def get_top_n(predictions, n=10):\n",
    "    # Map the predictions to each user.\n",
    "    top_n = defaultdict(list)\n",
    "    for uid, iid, true_r, est, _ in predictions:\n",
    "        top_n[uid].append((iid, est))\n",
    "    # Sort the predictions for each user and retrieve the n highest\n",
    "    for uid, user_ratings in top_n.items():\n",
    "        user_ratings.sort(key=lambda x: x[1], reverse=True)\n",
    "        top_n[uid] = user_ratings[:n]\n",
    "    return top_n"
   ]
  },
  {
   "cell_type": "markdown",
   "id": "ef26943a-9343-4d4b-87ff-0fd2494a8aae",
   "metadata": {},
   "source": [
    "### Training SVD Model on Full Dataset  \n",
    "\n",
    "- We build a training set using all available data with `build_full_trainset()`.  \n",
    "- Instantiate a new `SVD` model with the same hyperparameters as before.  \n",
    "- Train the SVD model on the full dataset to leverage all user ratings for the best possible model.  \n",
    "\n",
    "This full-data model can be used for final predictions and recommendations."
   ]
  },
  {
   "cell_type": "code",
   "execution_count": 30,
   "id": "12b23a9e-aa22-4efd-9fc5-a424ab2ebbd6",
   "metadata": {},
   "outputs": [
    {
     "data": {
      "text/plain": [
       "<surprise.prediction_algorithms.matrix_factorization.SVD at 0x16e5c8750>"
      ]
     },
     "execution_count": 30,
     "metadata": {},
     "output_type": "execute_result"
    }
   ],
   "source": [
    "trainset_full = data.build_full_trainset()\n",
    "svd_full = SVD(n_factors=50, n_epochs=20, random_state=42)\n",
    "svd_full.fit(trainset_full)"
   ]
  },
  {
   "cell_type": "markdown",
   "id": "e2dbb7e8-b2ae-48b4-8755-ec9d5954ca3e",
   "metadata": {},
   "source": [
    "### Generating Top-10 Recommendations for All Users  \n",
    "\n",
    "- We create an `anti_testset` which consists of all user-item pairs NOT seen in the training data (i.e., movies users haven't rated).  \n",
    "- Using the fully trained `svd_full` model, we predict ratings for these unseen user-item pairs.  \n",
    "- We then apply the `get_top_n` function to extract the top 10 highest predicted rating recommendations for each user.  \n",
    "\n",
    "This process yields personalized top-10 movie recommendations for every user based on the model’s learned preferences."
   ]
  },
  {
   "cell_type": "code",
   "execution_count": 31,
   "id": "35332337-f28b-44ef-9251-31cb4634ebe2",
   "metadata": {},
   "outputs": [],
   "source": [
    "anti_testset = trainset_full.build_anti_testset()\n",
    "predictions_all = svd_full.test(anti_testset)\n",
    "\n",
    "top_n = get_top_n(predictions_all, n=10)"
   ]
  },
  {
   "cell_type": "markdown",
   "id": "24e8339b-6498-49f1-ae10-20c0ff0f5443",
   "metadata": {},
   "source": [
    "### Viewing Top-10 Recommendations for a Specific User  \n",
    "\n",
    "- We display the top 10 recommended movies for user with ID 1 from the `top_n` dictionary.  \n",
    "- Each entry shows the movie ID and the model’s estimated rating score.  \n",
    "\n",
    "This allows inspection of personalized recommendations generated by the collaborative filtering model."
   ]
  },
  {
   "cell_type": "code",
   "execution_count": 32,
   "id": "838dd43a-772b-465f-b643-f070363dc366",
   "metadata": {},
   "outputs": [
    {
     "name": "stdout",
     "output_type": "stream",
     "text": [
      "Top-10 recommendations (movieId, estimated rating) for user 1:\n",
      "[(318, 5.0), (48516, 5.0), (58559, 5.0), (899, 5.0), (904, 5.0), (912, 5.0), (750, 5.0), (4993, 5.0), (7153, 5.0), (858, 5.0)]\n"
     ]
    }
   ],
   "source": [
    "print('Top-10 recommendations (movieId, estimated rating) for user 1:')\n",
    "print(top_n[1])"
   ]
  },
  {
   "cell_type": "markdown",
   "id": "bbfb4c57-3bee-4b81-bf02-106e117933bf",
   "metadata": {},
   "source": [
    "### Displaying Detailed Recommendations for a User  \n",
    "\n",
    "The `show_user_recommendations` function:  \n",
    "\n",
    "- Takes a user ID and the dictionary of top-N recommendations.  \n",
    "- Retrieves the recommended movie IDs and estimated ratings for the user.  \n",
    "- Merges these with the `movies` DataFrame to include movie titles and genres for better readability.  \n",
    "- Returns a DataFrame showing personalized movie recommendations with relevant details.  \n",
    "\n",
    "This function facilitates easy review of recommendations in a user-friendly format."
   ]
  },
  {
   "cell_type": "code",
   "execution_count": 33,
   "id": "7677d347-866b-4ba9-96aa-338889216c04",
   "metadata": {},
   "outputs": [
    {
     "data": {
      "text/html": [
       "<div>\n",
       "<style scoped>\n",
       "    .dataframe tbody tr th:only-of-type {\n",
       "        vertical-align: middle;\n",
       "    }\n",
       "\n",
       "    .dataframe tbody tr th {\n",
       "        vertical-align: top;\n",
       "    }\n",
       "\n",
       "    .dataframe thead th {\n",
       "        text-align: right;\n",
       "    }\n",
       "</style>\n",
       "<table border=\"1\" class=\"dataframe\">\n",
       "  <thead>\n",
       "    <tr style=\"text-align: right;\">\n",
       "      <th></th>\n",
       "      <th>movieId</th>\n",
       "      <th>est</th>\n",
       "      <th>title</th>\n",
       "      <th>genres</th>\n",
       "    </tr>\n",
       "  </thead>\n",
       "  <tbody>\n",
       "    <tr>\n",
       "      <th>0</th>\n",
       "      <td>318</td>\n",
       "      <td>5.0</td>\n",
       "      <td>Shawshank Redemption, The (1994)</td>\n",
       "      <td>Crime|Drama</td>\n",
       "    </tr>\n",
       "    <tr>\n",
       "      <th>1</th>\n",
       "      <td>48516</td>\n",
       "      <td>5.0</td>\n",
       "      <td>Departed, The (2006)</td>\n",
       "      <td>Crime|Drama|Thriller</td>\n",
       "    </tr>\n",
       "    <tr>\n",
       "      <th>2</th>\n",
       "      <td>58559</td>\n",
       "      <td>5.0</td>\n",
       "      <td>Dark Knight, The (2008)</td>\n",
       "      <td>Action|Crime|Drama|IMAX</td>\n",
       "    </tr>\n",
       "    <tr>\n",
       "      <th>3</th>\n",
       "      <td>899</td>\n",
       "      <td>5.0</td>\n",
       "      <td>Singin' in the Rain (1952)</td>\n",
       "      <td>Comedy|Musical|Romance</td>\n",
       "    </tr>\n",
       "    <tr>\n",
       "      <th>4</th>\n",
       "      <td>904</td>\n",
       "      <td>5.0</td>\n",
       "      <td>Rear Window (1954)</td>\n",
       "      <td>Mystery|Thriller</td>\n",
       "    </tr>\n",
       "    <tr>\n",
       "      <th>5</th>\n",
       "      <td>912</td>\n",
       "      <td>5.0</td>\n",
       "      <td>Casablanca (1942)</td>\n",
       "      <td>Drama|Romance</td>\n",
       "    </tr>\n",
       "    <tr>\n",
       "      <th>6</th>\n",
       "      <td>750</td>\n",
       "      <td>5.0</td>\n",
       "      <td>Dr. Strangelove or: How I Learned to Stop Worr...</td>\n",
       "      <td>Comedy|War</td>\n",
       "    </tr>\n",
       "    <tr>\n",
       "      <th>7</th>\n",
       "      <td>4993</td>\n",
       "      <td>5.0</td>\n",
       "      <td>Lord of the Rings: The Fellowship of the Ring,...</td>\n",
       "      <td>Adventure|Fantasy</td>\n",
       "    </tr>\n",
       "    <tr>\n",
       "      <th>8</th>\n",
       "      <td>7153</td>\n",
       "      <td>5.0</td>\n",
       "      <td>Lord of the Rings: The Return of the King, The...</td>\n",
       "      <td>Action|Adventure|Drama|Fantasy</td>\n",
       "    </tr>\n",
       "    <tr>\n",
       "      <th>9</th>\n",
       "      <td>858</td>\n",
       "      <td>5.0</td>\n",
       "      <td>Godfather, The (1972)</td>\n",
       "      <td>Crime|Drama</td>\n",
       "    </tr>\n",
       "  </tbody>\n",
       "</table>\n",
       "</div>"
      ],
      "text/plain": [
       "   movieId  est                                              title  \\\n",
       "0      318  5.0                   Shawshank Redemption, The (1994)   \n",
       "1    48516  5.0                               Departed, The (2006)   \n",
       "2    58559  5.0                            Dark Knight, The (2008)   \n",
       "3      899  5.0                         Singin' in the Rain (1952)   \n",
       "4      904  5.0                                 Rear Window (1954)   \n",
       "5      912  5.0                                  Casablanca (1942)   \n",
       "6      750  5.0  Dr. Strangelove or: How I Learned to Stop Worr...   \n",
       "7     4993  5.0  Lord of the Rings: The Fellowship of the Ring,...   \n",
       "8     7153  5.0  Lord of the Rings: The Return of the King, The...   \n",
       "9      858  5.0                              Godfather, The (1972)   \n",
       "\n",
       "                           genres  \n",
       "0                     Crime|Drama  \n",
       "1            Crime|Drama|Thriller  \n",
       "2         Action|Crime|Drama|IMAX  \n",
       "3          Comedy|Musical|Romance  \n",
       "4                Mystery|Thriller  \n",
       "5                   Drama|Romance  \n",
       "6                      Comedy|War  \n",
       "7               Adventure|Fantasy  \n",
       "8  Action|Adventure|Drama|Fantasy  \n",
       "9                     Crime|Drama  "
      ]
     },
     "execution_count": 33,
     "metadata": {},
     "output_type": "execute_result"
    }
   ],
   "source": [
    "def show_user_recommendations(user_id, top_n_recs):\n",
    "    recs = top_n_recs.get(user_id, [])\n",
    "    recs_df = pd.DataFrame(recs, columns=['movieId','est'])\n",
    "    recs_df = recs_df.merge(movies[['movieId','title','genres']], on='movieId')\n",
    "    return recs_df\n",
    "\n",
    "show_user_recommendations(1, top_n)"
   ]
  },
  {
   "cell_type": "markdown",
   "id": "5a6cb807-d6b1-4d05-a914-1ca89a3d4413",
   "metadata": {},
   "source": [
    "### Precision and Recall at K for Recommendation Evaluation  \n",
    "\n",
    "- The `precision_recall_at_k` function evaluates the quality of recommendations by computing precision and recall metrics at a cutoff rank \\(k\\).  \n",
    "- For each user, it sorts predicted ratings and calculates:  \n",
    "  - **Precision@k**: Proportion of recommended items in the top \\(k\\) that are truly relevant (above a rating threshold).  \n",
    "  - **Recall@k**: Proportion of all relevant items that appear in the top \\(k\\) recommendations.  \n",
    "- The function returns the average precision and recall across all users, providing insights into both accuracy and coverage of recommendations within the top ranked items.  \n",
    "\n",
    "This helps assess how well the recommender balances recommending relevant movies while covering the user's interests."
   ]
  },
  {
   "cell_type": "code",
   "execution_count": 34,
   "id": "de0b13b2-ad69-4c9f-9138-9054648eaeab",
   "metadata": {},
   "outputs": [],
   "source": [
    "def precision_recall_at_k(predictions, k=10, threshold=4.0):\n",
    "    user_est = defaultdict(list)\n",
    "    for uid, iid, true_r, est, _ in predictions:\n",
    "        user_est[uid].append((iid, est, true_r))\n",
    "\n",
    "    precisions = dict()\n",
    "    recalls = dict()\n",
    "    for uid, user_ratings in user_est.items():\n",
    "        user_ratings.sort(key=lambda x: x[1], reverse=True)\n",
    "        n_rel = sum((true_r >= threshold) for (_,_,true_r) in user_ratings)\n",
    "        n_rec_k = sum((est >= threshold) for (_,est,_) in user_ratings[:k])\n",
    "        n_rel_and_rec_k = sum(((true_r >= threshold) and (est >= threshold)) for (_,est,true_r) in user_ratings[:k])\n",
    "       \n",
    "        precisions[uid] = n_rel_and_rec_k / n_rec_k if n_rec_k != 0 else 0\n",
    "        recalls[uid] = n_rel_and_rec_k / n_rel if n_rel != 0 else 0\n",
    "\n",
    "    mean_precision = np.mean(list(precisions.values()))\n",
    "    mean_recall = np.mean(list(recalls.values()))\n",
    "    return mean_precision, mean_recall"
   ]
  },
  {
   "cell_type": "markdown",
   "id": "d8d52004-d729-4d6c-a980-0a6a77442a7a",
   "metadata": {},
   "source": [
    "### Evaluating Model with Precision@10 and Recall@10  \n",
    "\n",
    "- We calculate precision and recall at top 10 recommendations using the `precision_recall_at_k` function.  \n",
    "- A threshold of 4.0 is used to define which ratings are considered relevant.  \n",
    "- The resulting metrics provide a balanced measure of recommendation accuracy (precision) and comprehensiveness (recall) at the cutoff point.  \n",
    "\n",
    "This evaluation helps understand the effectiveness of the recommender in delivering relevant movies within the first 10 suggestions."
   ]
  },
  {
   "cell_type": "code",
   "execution_count": 35,
   "id": "3046f05e-f1a4-42c8-963c-2a9258dd2492",
   "metadata": {},
   "outputs": [
    {
     "name": "stdout",
     "output_type": "stream",
     "text": [
      "Precision@10: 0.5686, Recall@10: 0.2867\n"
     ]
    }
   ],
   "source": [
    "prec_k, rec_k = precision_recall_at_k(predictions, k=10, threshold=4.0)\n",
    "print(f'Precision@10: {prec_k:.4f}, Recall@10: {rec_k:.4f}')"
   ]
  },
  {
   "cell_type": "markdown",
   "id": "a2845b59-68ae-4d11-8655-67fdc471349b",
   "metadata": {},
   "source": [
    "### Displaying User Rating History  \n",
    "\n",
    "- We filter the `ratings` DataFrame to get the top 10 highest-rated movies by user with ID 1.  \n",
    "- The result is merged with the `movies` DataFrame to include movie titles for readability.  \n",
    "- This provides context about the user’s preferences and past interactions relevant to recommendation evaluation. "
   ]
  },
  {
   "cell_type": "code",
   "execution_count": 36,
   "id": "290bd52a-1a52-4cba-bf75-f4ed9f316f05",
   "metadata": {},
   "outputs": [
    {
     "name": "stdout",
     "output_type": "stream",
     "text": [
      "User history (top 10 by rating):\n",
      "   userId  movieId  rating  timestamp  \\\n",
      "0       1     5060     5.0  964984002   \n",
      "1       1     2872     5.0  964981680   \n",
      "2       1     1291     5.0  964981909   \n",
      "3       1     1298     5.0  964984086   \n",
      "4       1     2948     5.0  964982191   \n",
      "5       1     2947     5.0  964982176   \n",
      "6       1     2944     5.0  964981872   \n",
      "7       1     2899     5.0  964982703   \n",
      "8       1     2858     5.0  964980868   \n",
      "9       1     2700     5.0  964980985   \n",
      "\n",
      "                                         title  \n",
      "0                 M*A*S*H (a.k.a. MASH) (1970)  \n",
      "1                             Excalibur (1981)  \n",
      "2    Indiana Jones and the Last Crusade (1989)  \n",
      "3                  Pink Floyd: The Wall (1982)  \n",
      "4                 From Russia with Love (1963)  \n",
      "5                            Goldfinger (1964)  \n",
      "6                      Dirty Dozen, The (1967)  \n",
      "7                    Gulliver's Travels (1939)  \n",
      "8                       American Beauty (1999)  \n",
      "9  South Park: Bigger, Longer and Uncut (1999)  \n"
     ]
    }
   ],
   "source": [
    "user_id = 1\n",
    "user_history = ratings[ratings['userId'] == user_id].sort_values('rating', ascending=False).head(10)\n",
    "print('User history (top 10 by rating):')\n",
    "print(user_history.merge(movies[['movieId','title']], on='movieId'))"
   ]
  },
  {
   "cell_type": "markdown",
   "id": "21916caa-8ce3-4b8e-b336-e93687a2607f",
   "metadata": {},
   "source": [
    "### Comparing Content-Based and Collaborative Recommendations for a User  \n",
    "\n",
    "- We first identify the user's top-rated movie and generate content-based recommendations similar to that movie.  \n",
    "- We then display the collaborative filtering (SVD) top-10 recommendations personalized for the user.  \n",
    "\n",
    "This comparison showcases how content-based and collaborative models provide complementary recommendations tailored to the user's preferences."
   ]
  },
  {
   "cell_type": "code",
   "execution_count": 37,
   "id": "98d07084-b664-42ee-87af-816fc55a1ea5",
   "metadata": {},
   "outputs": [
    {
     "name": "stdout",
     "output_type": "stream",
     "text": [
      "\n",
      "Content-based recommendations based on user's top movie:\n"
     ]
    },
    {
     "data": {
      "text/html": [
       "<div>\n",
       "<style scoped>\n",
       "    .dataframe tbody tr th:only-of-type {\n",
       "        vertical-align: middle;\n",
       "    }\n",
       "\n",
       "    .dataframe tbody tr th {\n",
       "        vertical-align: top;\n",
       "    }\n",
       "\n",
       "    .dataframe thead th {\n",
       "        text-align: right;\n",
       "    }\n",
       "</style>\n",
       "<table border=\"1\" class=\"dataframe\">\n",
       "  <thead>\n",
       "    <tr style=\"text-align: right;\">\n",
       "      <th></th>\n",
       "      <th>movieId</th>\n",
       "      <th>title</th>\n",
       "      <th>genres</th>\n",
       "    </tr>\n",
       "  </thead>\n",
       "  <tbody>\n",
       "    <tr>\n",
       "      <th>3673</th>\n",
       "      <td>5060</td>\n",
       "      <td>M*A*S*H (a.k.a. MASH) (1970)</td>\n",
       "      <td>Comedy|Drama|War</td>\n",
       "    </tr>\n",
       "    <tr>\n",
       "      <th>7344</th>\n",
       "      <td>78142</td>\n",
       "      <td>Baarìa (2009)</td>\n",
       "      <td>Comedy|Drama|War</td>\n",
       "    </tr>\n",
       "    <tr>\n",
       "      <th>130</th>\n",
       "      <td>157</td>\n",
       "      <td>Canadian Bacon (1995)</td>\n",
       "      <td>Comedy|War</td>\n",
       "    </tr>\n",
       "    <tr>\n",
       "      <th>4773</th>\n",
       "      <td>7104</td>\n",
       "      <td>1941 (1979)</td>\n",
       "      <td>Comedy|War</td>\n",
       "    </tr>\n",
       "    <tr>\n",
       "      <th>1279</th>\n",
       "      <td>1696</td>\n",
       "      <td>Bent (1997)</td>\n",
       "      <td>Drama|War</td>\n",
       "    </tr>\n",
       "    <tr>\n",
       "      <th>1540</th>\n",
       "      <td>2075</td>\n",
       "      <td>Mephisto (1981)</td>\n",
       "      <td>Drama|War</td>\n",
       "    </tr>\n",
       "    <tr>\n",
       "      <th>1760</th>\n",
       "      <td>2358</td>\n",
       "      <td>Savior (1998)</td>\n",
       "      <td>Drama|War</td>\n",
       "    </tr>\n",
       "    <tr>\n",
       "      <th>2334</th>\n",
       "      <td>3091</td>\n",
       "      <td>Kagemusha (1980)</td>\n",
       "      <td>Drama|War</td>\n",
       "    </tr>\n",
       "    <tr>\n",
       "      <th>2501</th>\n",
       "      <td>3342</td>\n",
       "      <td>Birdy (1984)</td>\n",
       "      <td>Drama|War</td>\n",
       "    </tr>\n",
       "    <tr>\n",
       "      <th>3026</th>\n",
       "      <td>4047</td>\n",
       "      <td>Gettysburg (1993)</td>\n",
       "      <td>Drama|War</td>\n",
       "    </tr>\n",
       "  </tbody>\n",
       "</table>\n",
       "</div>"
      ],
      "text/plain": [
       "      movieId                         title            genres\n",
       "3673     5060  M*A*S*H (a.k.a. MASH) (1970)  Comedy|Drama|War\n",
       "7344    78142                 Baarìa (2009)  Comedy|Drama|War\n",
       "130       157         Canadian Bacon (1995)        Comedy|War\n",
       "4773     7104                   1941 (1979)        Comedy|War\n",
       "1279     1696                   Bent (1997)         Drama|War\n",
       "1540     2075               Mephisto (1981)         Drama|War\n",
       "1760     2358                 Savior (1998)         Drama|War\n",
       "2334     3091              Kagemusha (1980)         Drama|War\n",
       "2501     3342                  Birdy (1984)         Drama|War\n",
       "3026     4047             Gettysburg (1993)         Drama|War"
      ]
     },
     "metadata": {},
     "output_type": "display_data"
    },
    {
     "name": "stdout",
     "output_type": "stream",
     "text": [
      "\n",
      "Collaborative recommendations (SVD) for the user:\n"
     ]
    },
    {
     "data": {
      "text/html": [
       "<div>\n",
       "<style scoped>\n",
       "    .dataframe tbody tr th:only-of-type {\n",
       "        vertical-align: middle;\n",
       "    }\n",
       "\n",
       "    .dataframe tbody tr th {\n",
       "        vertical-align: top;\n",
       "    }\n",
       "\n",
       "    .dataframe thead th {\n",
       "        text-align: right;\n",
       "    }\n",
       "</style>\n",
       "<table border=\"1\" class=\"dataframe\">\n",
       "  <thead>\n",
       "    <tr style=\"text-align: right;\">\n",
       "      <th></th>\n",
       "      <th>movieId</th>\n",
       "      <th>est</th>\n",
       "      <th>title</th>\n",
       "      <th>genres</th>\n",
       "    </tr>\n",
       "  </thead>\n",
       "  <tbody>\n",
       "    <tr>\n",
       "      <th>0</th>\n",
       "      <td>318</td>\n",
       "      <td>5.0</td>\n",
       "      <td>Shawshank Redemption, The (1994)</td>\n",
       "      <td>Crime|Drama</td>\n",
       "    </tr>\n",
       "    <tr>\n",
       "      <th>1</th>\n",
       "      <td>48516</td>\n",
       "      <td>5.0</td>\n",
       "      <td>Departed, The (2006)</td>\n",
       "      <td>Crime|Drama|Thriller</td>\n",
       "    </tr>\n",
       "    <tr>\n",
       "      <th>2</th>\n",
       "      <td>58559</td>\n",
       "      <td>5.0</td>\n",
       "      <td>Dark Knight, The (2008)</td>\n",
       "      <td>Action|Crime|Drama|IMAX</td>\n",
       "    </tr>\n",
       "    <tr>\n",
       "      <th>3</th>\n",
       "      <td>899</td>\n",
       "      <td>5.0</td>\n",
       "      <td>Singin' in the Rain (1952)</td>\n",
       "      <td>Comedy|Musical|Romance</td>\n",
       "    </tr>\n",
       "    <tr>\n",
       "      <th>4</th>\n",
       "      <td>904</td>\n",
       "      <td>5.0</td>\n",
       "      <td>Rear Window (1954)</td>\n",
       "      <td>Mystery|Thriller</td>\n",
       "    </tr>\n",
       "    <tr>\n",
       "      <th>5</th>\n",
       "      <td>912</td>\n",
       "      <td>5.0</td>\n",
       "      <td>Casablanca (1942)</td>\n",
       "      <td>Drama|Romance</td>\n",
       "    </tr>\n",
       "    <tr>\n",
       "      <th>6</th>\n",
       "      <td>750</td>\n",
       "      <td>5.0</td>\n",
       "      <td>Dr. Strangelove or: How I Learned to Stop Worr...</td>\n",
       "      <td>Comedy|War</td>\n",
       "    </tr>\n",
       "    <tr>\n",
       "      <th>7</th>\n",
       "      <td>4993</td>\n",
       "      <td>5.0</td>\n",
       "      <td>Lord of the Rings: The Fellowship of the Ring,...</td>\n",
       "      <td>Adventure|Fantasy</td>\n",
       "    </tr>\n",
       "    <tr>\n",
       "      <th>8</th>\n",
       "      <td>7153</td>\n",
       "      <td>5.0</td>\n",
       "      <td>Lord of the Rings: The Return of the King, The...</td>\n",
       "      <td>Action|Adventure|Drama|Fantasy</td>\n",
       "    </tr>\n",
       "    <tr>\n",
       "      <th>9</th>\n",
       "      <td>858</td>\n",
       "      <td>5.0</td>\n",
       "      <td>Godfather, The (1972)</td>\n",
       "      <td>Crime|Drama</td>\n",
       "    </tr>\n",
       "  </tbody>\n",
       "</table>\n",
       "</div>"
      ],
      "text/plain": [
       "   movieId  est                                              title  \\\n",
       "0      318  5.0                   Shawshank Redemption, The (1994)   \n",
       "1    48516  5.0                               Departed, The (2006)   \n",
       "2    58559  5.0                            Dark Knight, The (2008)   \n",
       "3      899  5.0                         Singin' in the Rain (1952)   \n",
       "4      904  5.0                                 Rear Window (1954)   \n",
       "5      912  5.0                                  Casablanca (1942)   \n",
       "6      750  5.0  Dr. Strangelove or: How I Learned to Stop Worr...   \n",
       "7     4993  5.0  Lord of the Rings: The Fellowship of the Ring,...   \n",
       "8     7153  5.0  Lord of the Rings: The Return of the King, The...   \n",
       "9      858  5.0                              Godfather, The (1972)   \n",
       "\n",
       "                           genres  \n",
       "0                     Crime|Drama  \n",
       "1            Crime|Drama|Thriller  \n",
       "2         Action|Crime|Drama|IMAX  \n",
       "3          Comedy|Musical|Romance  \n",
       "4                Mystery|Thriller  \n",
       "5                   Drama|Romance  \n",
       "6                      Comedy|War  \n",
       "7               Adventure|Fantasy  \n",
       "8  Action|Adventure|Drama|Fantasy  \n",
       "9                     Crime|Drama  "
      ]
     },
     "metadata": {},
     "output_type": "display_data"
    }
   ],
   "source": [
    "if not user_history.empty:\n",
    "    top_movie_title = movies[movies['movieId'] == user_history.iloc[0]['movieId']]['title'].values[0]\n",
    "    print('\\nContent-based recommendations based on user\\'s top movie:')\n",
    "    display(content_recommendations(top_movie_title, topn=10))\n",
    "\n",
    "print('\\nCollaborative recommendations (SVD) for the user:')\n",
    "display(show_user_recommendations(user_id, top_n))"
   ]
  },
  {
   "cell_type": "markdown",
   "id": "8ad22a7d-7416-4e97-8949-93ac55987b03",
   "metadata": {},
   "source": [
    "### Hybrid Recommendation System Combining Collaborative and Content-Based Scores  \n",
    "\n",
    "The `hybrid_recommendations_for_user` function generates recommendations by blending:  \n",
    "\n",
    "1. Collaborative filtering scores from the fully trained SVD model for movies the user hasn't rated.  \n",
    "2. Content similarity scores based on the average similarity of candidate movies to the user's top 5 liked movies using the content cosine similarity matrix.  \n",
    "\n",
    "Key steps:  \n",
    "- Candidates exclude movies the user has already rated.  \n",
    "- Content similarity is averaged across favorites to represent general content preference.  \n",
    "- Scores are normalized via MinMaxScaler for comparability.  \n",
    "- A weighted sum of collaborative and content scores is computed with parameter α controlling the blend.  \n",
    "- Top N movies with highest hybrid scores are returned with titles and genres.  \n",
    "\n",
    "This approach leverages strengths of both recommendation types for improved personalization."
   ]
  },
  {
   "cell_type": "code",
   "execution_count": 38,
   "id": "7d0c5976-1a52-460f-8e99-451b1235f98b",
   "metadata": {},
   "outputs": [],
   "source": [
    "from sklearn.preprocessing import MinMaxScaler\n",
    "\n",
    "def hybrid_recommendations_for_user(user_id, topn=10, alpha=0.5):\n",
    "    # 1) Collaborative scores from SVD\n",
    "    user_rated = set(ratings[ratings['userId']==user_id]['movieId'].unique())\n",
    "    all_movie_ids = set(movies['movieId'].unique())\n",
    "    candidates = list(all_movie_ids - user_rated)\n",
    "\n",
    "    collab_scores = []\n",
    "    for mid in candidates:\n",
    "        est = svd_full.predict(user_id, mid).est\n",
    "        collab_scores.append((mid, est))\n",
    "    collab_df = pd.DataFrame(collab_scores, columns=['movieId','collab_est'])\n",
    "\n",
    "    # 2) Content score: average similarity of candidate to user's top N liked movies\n",
    "    user_top_movies = ratings[ratings['userId']==user_id].sort_values('rating', ascending=False).head(5)['movieId'].values\n",
    "    # If user has no history, fall back to popularity\n",
    "    if len(user_top_movies) == 0:\n",
    "        print('No history for user - returning popular items')\n",
    "        popular = ratings.groupby('movieId')['rating'].count().sort_values(ascending=False).head(topn).index\n",
    "        return movies[movies['movieId'].isin(popular)][['movieId','title','genres']]\n",
    "\n",
    "    # we compute content similarity vector for each candidate relative to user's top movies\n",
    "    # We'll compute average cosine similarity between candidate and each favorite movie\n",
    "    fav_indices = [movies.index[movies['movieId']==m].tolist()[0] for m in user_top_movies if not movies.index[movies['movieId']==m].empty]\n",
    "\n",
    "    content_scores = []\n",
    "    for mid in candidates:\n",
    "        try:\n",
    "            cand_idx = movies.index[movies['movieId']==mid].tolist()[0]\n",
    "        except IndexError:\n",
    "            continue\n",
    "        sims = [cos_sim[cand_idx][fav_idx] for fav_idx in fav_indices]\n",
    "        avg_sim = np.mean(sims) if len(sims)>0 else 0\n",
    "        content_scores.append((mid, avg_sim))\n",
    "    content_df = pd.DataFrame(content_scores, columns=['movieId','content_sim'])\n",
    "\n",
    "    # Merge and normalize\n",
    "    merged = collab_df.merge(content_df, on='movieId', how='inner')\n",
    "    scaler = MinMaxScaler()\n",
    "    merged[['collab_norm','content_norm']] = scaler.fit_transform(merged[['collab_est','content_sim']])\n",
    "    # Weighted score\n",
    "    merged['hybrid_score'] = alpha * merged['collab_norm'] + (1-alpha) * merged['content_norm']\n",
    "    merged = merged.sort_values('hybrid_score', ascending=False).head(topn)\n",
    "    result = merged.merge(movies[['movieId','title','genres']], on='movieId')\n",
    "    return result[['movieId','title','genres','hybrid_score']]"
   ]
  },
  {
   "cell_type": "markdown",
   "id": "daf28d8f-2809-4e46-a7af-405cd6ebc07a",
   "metadata": {},
   "source": [
    "### Generating Hybrid Recommendations for User 1  \n",
    "\n",
    "- Calling the `hybrid_recommendations_for_user` function with user ID 1.  \n",
    "- Using an alpha value of 0.6 to give more weight to collaborative filtering while still incorporating content similarity.  \n",
    "- Returns the top 10 personalized movie recommendations blending both collaborative and content-based approaches, including movie titles, genres, and computed hybrid scores.  \n",
    "\n",
    "This demonstrates the use of a hybrid system to balance collaborative predictions and content similarity for enhanced recommendations."
   ]
  },
  {
   "cell_type": "code",
   "execution_count": 39,
   "id": "53f53e44-8779-410d-9fa0-3c552cca408f",
   "metadata": {},
   "outputs": [
    {
     "data": {
      "text/html": [
       "<div>\n",
       "<style scoped>\n",
       "    .dataframe tbody tr th:only-of-type {\n",
       "        vertical-align: middle;\n",
       "    }\n",
       "\n",
       "    .dataframe tbody tr th {\n",
       "        vertical-align: top;\n",
       "    }\n",
       "\n",
       "    .dataframe thead th {\n",
       "        text-align: right;\n",
       "    }\n",
       "</style>\n",
       "<table border=\"1\" class=\"dataframe\">\n",
       "  <thead>\n",
       "    <tr style=\"text-align: right;\">\n",
       "      <th></th>\n",
       "      <th>movieId</th>\n",
       "      <th>title</th>\n",
       "      <th>genres</th>\n",
       "      <th>hybrid_score</th>\n",
       "    </tr>\n",
       "  </thead>\n",
       "  <tbody>\n",
       "    <tr>\n",
       "      <th>0</th>\n",
       "      <td>69481</td>\n",
       "      <td>Hurt Locker, The (2008)</td>\n",
       "      <td>Action|Drama|Thriller|War</td>\n",
       "      <td>0.834856</td>\n",
       "    </tr>\n",
       "    <tr>\n",
       "      <th>1</th>\n",
       "      <td>4047</td>\n",
       "      <td>Gettysburg (1993)</td>\n",
       "      <td>Drama|War</td>\n",
       "      <td>0.803926</td>\n",
       "    </tr>\n",
       "    <tr>\n",
       "      <th>2</th>\n",
       "      <td>7143</td>\n",
       "      <td>Last Samurai, The (2003)</td>\n",
       "      <td>Action|Adventure|Drama|War</td>\n",
       "      <td>0.800282</td>\n",
       "    </tr>\n",
       "    <tr>\n",
       "      <th>3</th>\n",
       "      <td>1204</td>\n",
       "      <td>Lawrence of Arabia (1962)</td>\n",
       "      <td>Adventure|Drama|War</td>\n",
       "      <td>0.796646</td>\n",
       "    </tr>\n",
       "    <tr>\n",
       "      <th>4</th>\n",
       "      <td>7840</td>\n",
       "      <td>Gunga Din (1939)</td>\n",
       "      <td>Adventure|Comedy|War</td>\n",
       "      <td>0.793649</td>\n",
       "    </tr>\n",
       "    <tr>\n",
       "      <th>5</th>\n",
       "      <td>5965</td>\n",
       "      <td>Duellists, The (1977)</td>\n",
       "      <td>Action|War</td>\n",
       "      <td>0.775410</td>\n",
       "    </tr>\n",
       "    <tr>\n",
       "      <th>6</th>\n",
       "      <td>65216</td>\n",
       "      <td>Defiance (2008)</td>\n",
       "      <td>Drama|Thriller|War</td>\n",
       "      <td>0.773181</td>\n",
       "    </tr>\n",
       "    <tr>\n",
       "      <th>7</th>\n",
       "      <td>3091</td>\n",
       "      <td>Kagemusha (1980)</td>\n",
       "      <td>Drama|War</td>\n",
       "      <td>0.762073</td>\n",
       "    </tr>\n",
       "    <tr>\n",
       "      <th>8</th>\n",
       "      <td>53</td>\n",
       "      <td>Lamerica (1994)</td>\n",
       "      <td>Adventure|Drama</td>\n",
       "      <td>0.761819</td>\n",
       "    </tr>\n",
       "    <tr>\n",
       "      <th>9</th>\n",
       "      <td>3342</td>\n",
       "      <td>Birdy (1984)</td>\n",
       "      <td>Drama|War</td>\n",
       "      <td>0.755370</td>\n",
       "    </tr>\n",
       "  </tbody>\n",
       "</table>\n",
       "</div>"
      ],
      "text/plain": [
       "   movieId                      title                      genres  \\\n",
       "0    69481    Hurt Locker, The (2008)   Action|Drama|Thriller|War   \n",
       "1     4047          Gettysburg (1993)                   Drama|War   \n",
       "2     7143   Last Samurai, The (2003)  Action|Adventure|Drama|War   \n",
       "3     1204  Lawrence of Arabia (1962)         Adventure|Drama|War   \n",
       "4     7840           Gunga Din (1939)        Adventure|Comedy|War   \n",
       "5     5965      Duellists, The (1977)                  Action|War   \n",
       "6    65216            Defiance (2008)          Drama|Thriller|War   \n",
       "7     3091           Kagemusha (1980)                   Drama|War   \n",
       "8       53            Lamerica (1994)             Adventure|Drama   \n",
       "9     3342               Birdy (1984)                   Drama|War   \n",
       "\n",
       "   hybrid_score  \n",
       "0      0.834856  \n",
       "1      0.803926  \n",
       "2      0.800282  \n",
       "3      0.796646  \n",
       "4      0.793649  \n",
       "5      0.775410  \n",
       "6      0.773181  \n",
       "7      0.762073  \n",
       "8      0.761819  \n",
       "9      0.755370  "
      ]
     },
     "execution_count": 39,
     "metadata": {},
     "output_type": "execute_result"
    }
   ],
   "source": [
    "hybrid_recommendations_for_user(1, topn=10, alpha=0.6)"
   ]
  },
  {
   "cell_type": "markdown",
   "id": "a4c81cf0-f9e7-468a-bc6c-6e9f1b59857c",
   "metadata": {},
   "source": [
    "### Saving Models and Data for Future Use  \n",
    "\n",
    "- The TF-IDF vectorizer (`tfidf`) is serialized and saved to `tfidf_vectorizer.pkl` for later reuse in processing new movie content.  \n",
    "- The fully trained SVD collaborative filtering model (`svd_full`) is saved to `svd_model.pkl`.  \n",
    "- The preprocessed `movies` DataFrame, containing metadata and content features, is saved as `movies_df.pkl`.  \n",
    "\n",
    "Saving these artifacts facilitates efficient deployment or future model updates without retraining from scratch."
   ]
  },
  {
   "cell_type": "code",
   "execution_count": 40,
   "id": "523013ad-0425-470b-adba-5dd633b19ca5",
   "metadata": {},
   "outputs": [
    {
     "name": "stdout",
     "output_type": "stream",
     "text": [
      "Saved tfidf_vectorizer.pkl, svd_model.pkl, movies_df.pkl\n"
     ]
    }
   ],
   "source": [
    "with open('tfidf_vectorizer.pkl', 'wb') as f:\n",
    "    pickle.dump(tfidf, f)\n",
    "\n",
    "with open('svd_model.pkl', 'wb') as f:\n",
    "    pickle.dump(svd_full, f)\n",
    "\n",
    "movies.to_pickle('movies_df.pkl')\n",
    "print('Saved tfidf_vectorizer.pkl, svd_model.pkl, movies_df.pkl')"
   ]
  },
  {
   "cell_type": "markdown",
   "id": "37ab0a7f-3b0d-4de2-8621-673b41efffbd",
   "metadata": {},
   "source": [
    "### Streamlit App for Interactive Movie Recommendations  \n",
    "\n",
    "I've added app.py in the same directory as of this notebook, which sets up a Streamlit web app for demoing the movie recommender system with three modes: Collaborative (SVD), Content-based, and Hybrid, which we've discussed above.\n",
    "\n",
    "**Key features:**  \n",
    "- **Loading artifacts:** The TF-IDF vectorizer, trained SVD model, movies DataFrame, and content similarity matrix are loaded using a cached function to avoid repeated loading and computation.  \n",
    "- **User input:** The app takes a user ID (integer) and lets users select the recommendation mode.  \n",
    "- **Content-based recommendations:** Based on cosine similarity of combined movie content (title, genres, tags), it suggests movies similar to a user-chosen title.  \n",
    "- **Collaborative filtering:** Uses the SVD model to predict and rank movies for a user based on latent factors derived from user-item rating interactions.  \n",
    "- **Hybrid recommendations:** Combines collaborative and content scores weighted by a user-controllable alpha slider, blending personalization with content similarity.  \n",
    "- **Interactivity:** Users can easily switch modes and input values, with recommendations displayed in tabular form in real-time.  \n",
    "\n",
    "This serves as a user-friendly interface for exploring different recommendation approaches built in this notebook."
   ]
  }
 ],
 "metadata": {
  "kernelspec": {
   "display_name": "Python 3 (ipykernel)",
   "language": "python",
   "name": "python3"
  },
  "language_info": {
   "codemirror_mode": {
    "name": "ipython",
    "version": 3
   },
   "file_extension": ".py",
   "mimetype": "text/x-python",
   "name": "python",
   "nbconvert_exporter": "python",
   "pygments_lexer": "ipython3",
   "version": "3.11.11"
  }
 },
 "nbformat": 4,
 "nbformat_minor": 5
}
